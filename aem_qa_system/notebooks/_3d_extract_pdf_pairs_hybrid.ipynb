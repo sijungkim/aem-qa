{
 "cells": [
  {
   "cell_type": "code",
   "execution_count": null,
   "id": "99ae6098",
   "metadata": {},
   "outputs": [],
   "source": [
    "# notebooks/3d_extract_pdf_pairs_hybrid.ipynb (새 노트북 예시)\n",
    "\n",
    "import os\n",
    "import sys\n",
    "import pandas as pd\n",
    "# src 폴더를 경로에 추가\n",
    "sys.path.append(os.path.abspath('../src'))\n"
   ]
  },
  {
   "cell_type": "code",
   "execution_count": null,
   "id": "af14dcc5",
   "metadata": {},
   "outputs": [],
   "source": [
    "\n",
    "# ----------------------------------------------------------------\n",
    "# 1. 설정\n",
    "# ----------------------------------------------------------------\n",
    "# config.py에서 필요한 경로들을 불러옵니다.\n",
    "from config import PDF_DOWNLOAD_DIR, PROCESSED_DIR\n",
    "# 새로 만든 모듈을 불러옵니다.\n",
    "from processors.hybrid_pdf_pair_extractor import HybridPDFPairExtractor\n",
    "\n",
    "# 처리할 PDF 파일명을 지정합니다.\n",
    "SOURCE_PDF_FILENAME = '10x-gene-expression-tech-note-m-gl-00777.pdf'\n",
    "TARGET_PDF_FILENAME = '10x-gene-expression-tech-note-m-gl-00777-jpn.pdf'\n",
    "\n",
    "# config의 경로와 파일명을 조합하여 전체 경로를 만듭니다.\n",
    "source_pdf_path = os.path.join(PDF_DOWNLOAD_DIR, 'en', SOURCE_PDF_FILENAME)\n",
    "target_pdf_path = os.path.join(PDF_DOWNLOAD_DIR, 'ja', TARGET_PDF_FILENAME)\n",
    "\n",
    "# 결과 파일 경로\n",
    "output_csv_path = os.path.join(PROCESSED_DIR, 'pdf_tm_en_ja_hybrid_output.csv')\n"
   ]
  },
  {
   "cell_type": "code",
   "execution_count": null,
   "id": "1aad65b7",
   "metadata": {},
   "outputs": [],
   "source": [
    "\n",
    "# ----------------------------------------------------------------\n",
    "# 2. 실행\n",
    "# ----------------------------------------------------------------\n",
    "if not os.path.exists(source_pdf_path) or not os.path.exists(target_pdf_path):\n",
    "    print(f\"❌ 오류: PDF 파일을 찾을 수 없습니다. 경로를 확인하세요.\")\n",
    "    print(f\"   - 원본(EN) 경로: {source_pdf_path}\")\n",
    "    print(f\"   - 대상(JA) 경로: {target_pdf_path}\")\n",
    "else:\n",
    "    # 클래스 인스턴스 생성\n",
    "    extractor = HybridPDFPairExtractor()\n",
    "    \n",
    "    # 번역쌍 생성 실행 (x_tolerance 추가)\n",
    "    df_pairs = extractor.generate_pairs(\n",
    "        source_pdf_path=source_pdf_path,\n",
    "        target_pdf_path=target_pdf_path,\n",
    "        y_tolerance=10,         # 수직 허용 오차 (10픽셀)\n",
    "        x_tolerance=50,         # ◀◀◀ 수평 허용 오차 (50픽셀) 추가\n",
    "        similarity_threshold=0.75 # ◀◀◀ 정확도를 위해 임계값 상향 조정 추천\n",
    "    )\n",
    "\n",
    "    # ----------------------------------------------------------------\n",
    "    # 3. 결과 저장 및 요약\n",
    "    # ----------------------------------------------------------------\n",
    "    if not df_pairs.empty:\n",
    "        print(\"\\n--- 4. 결과 저장 ---\")\n",
    "        df_pairs.to_csv(output_csv_path, index=False, encoding='utf-8-sig')\n",
    "        \n",
    "        print(f\"   - ✅ 총 {len(df_pairs)}개의 번역 쌍을 '{os.path.basename(output_csv_path)}' 파일로 저장했습니다.\")\n",
    "        print(f\"   - 📊 평균 유사도: {df_pairs['similarity_score'].mean():.4f}\")\n",
    "        print(f\"   - 📋 타입별 개수:\\n{df_pairs['type'].value_counts().to_string()}\")\n",
    "        \n",
    "        # 결과 미리보기\n",
    "        print(\"\\n--- 5. 상위 5개 결과 미리보기 (유사도 순) ---\")\n",
    "        print(df_pairs.nlargest(5, 'similarity_score').to_string())\n",
    "    else:\n",
    "        print(\"\\n⚠️ 생성된 번역 쌍이 없습니다.\")"
   ]
  }
 ],
 "metadata": {
  "kernelspec": {
   "display_name": "mywork",
   "language": "python",
   "name": "python3"
  },
  "language_info": {
   "codemirror_mode": {
    "name": "ipython",
    "version": 3
   },
   "file_extension": ".py",
   "mimetype": "text/x-python",
   "name": "python",
   "nbconvert_exporter": "python",
   "pygments_lexer": "ipython3",
   "version": "3.12.11"
  }
 },
 "nbformat": 4,
 "nbformat_minor": 5
}
