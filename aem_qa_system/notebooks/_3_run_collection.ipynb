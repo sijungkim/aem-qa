{
 "cells": [
  {
   "cell_type": "code",
   "execution_count": null,
   "id": "caca3972",
   "metadata": {},
   "outputs": [],
   "source": [
    "# notebooks/3_run_collection.ipynb\n",
    "\n",
    "import os\n",
    "import sys\n",
    "import getpass\n",
    "import shutil\n",
    "from datetime import datetime\n",
    "sys.path.append(os.path.abspath('../src'))\n",
    "\n",
    "from config import *\n",
    "from collectors.aem_collector import AEMCollector\n",
    "from collectors.pdf_collector import PDFCollector\n",
    "from collectors.package_builder import create_package\n"
   ]
  },
  {
   "cell_type": "code",
   "execution_count": null,
   "id": "b60ec26a",
   "metadata": {},
   "outputs": [],
   "source": [
    "# --- 1. AEM 인증 정보 입력 ---\n",
    "print(\"🔐 AEM 접속 정보를 입력하세요.\")\n",
    "username = input(\"사용자 이름: \")\n",
    "password = getpass.getpass(\"비밀번호: \")\n"
   ]
  },
  {
   "cell_type": "code",
   "execution_count": null,
   "id": "8dd24cf7",
   "metadata": {},
   "outputs": [],
   "source": [
    "all_collected_files = []\n",
    "\n",
    "# --- 2. AEM 배치 처리 ---\n",
    "print(\"\\n\" + \"=\"*80)\n",
    "print(\"--- 2. AEM 페이지 배치 처리를 시작합니다. ---\")\n",
    "while True:\n",
    "    batch_files = sorted([f for f in os.listdir(AEM_BATCHES_TODO_DIR) if f.endswith('.list')])\n",
    "    if not batch_files:\n",
    "        print(\"\\n✅ 모든 AEM 배치가 처리되었습니다.\")\n",
    "        break\n",
    "    \n",
    "    current_batch_file = batch_files[0]\n",
    "    current_batch_path = os.path.join(AEM_BATCHES_TODO_DIR, current_batch_file)\n",
    "    \n",
    "    print(f\"\\n🤖 다음 AEM 배치를 처리합니다: {current_batch_file}\")\n",
    "    \n",
    "    with open(current_batch_path, 'r', encoding='utf-8') as f:\n",
    "        page_paths = [line.strip() for line in f if line.strip()]\n",
    "        \n",
    "    if not page_paths:\n",
    "        print(\"   - ✅ 배치 파일이 비어있어 건너뜁니다.\")\n",
    "        shutil.move(current_batch_path, os.path.join(AEM_BATCHES_DONE_DIR, current_batch_file))\n",
    "        continue\n",
    "\n",
    "    try:\n",
    "        collector = AEMCollector(username, password)\n",
    "        collected_files = collector.collect_snapshots_for_batch(page_paths)\n",
    "        all_collected_files.extend(collected_files)\n",
    "        \n",
    "        print(f\"   - ✅ 배치 성공: {len(collected_files)}개 파일 수집.\")\n",
    "        shutil.move(current_batch_path, os.path.join(AEM_BATCHES_DONE_DIR, current_batch_file))\n",
    "        \n",
    "    except Exception as e:\n",
    "        print(f\"   - ❌ 배치 실패: {current_batch_file}. 오류: {e}\"); break\n"
   ]
  },
  {
   "cell_type": "code",
   "execution_count": null,
   "id": "64a80407",
   "metadata": {},
   "outputs": [],
   "source": [
    "\n",
    "# --- 3. PDF 배치 처리 ---\n",
    "print(\"\\n\" + \"=\"*80)\n",
    "print(\"--- 3. PDF 목록 배치 처리를 시작합니다. ---\")\n",
    "while True:\n",
    "    batch_files = sorted([f for f in os.listdir(PDF_BATCHES_TODO_DIR) if f.endswith('.csv')])\n",
    "    if not batch_files:\n",
    "        print(\"\\n✅ 모든 PDF 배치가 처리되었습니다.\")\n",
    "        break\n",
    "\n",
    "    current_batch_file = batch_files[0]\n",
    "    current_batch_path = os.path.join(PDF_BATCHES_TODO_DIR, current_batch_file)\n",
    "    \n",
    "    print(f\"\\n🤖 다음 PDF 배치를 처리합니다: {current_batch_file}\")\n",
    "    \n",
    "    try:\n",
    "        collector = PDFCollector(username, password)\n",
    "        collected_files = collector.collect_pdfs_for_batch(current_batch_path)\n",
    "        all_collected_files.extend(collected_files)\n",
    "        \n",
    "        print(f\"   - ✅ 배치 성공: {len(collected_files)}개 파일 수집.\")\n",
    "        shutil.move(current_batch_path, os.path.join(PDF_BATCHES_DONE_DIR, current_batch_file))\n",
    "        \n",
    "    except Exception as e:\n",
    "        print(f\"   - ❌ 배치 실패: {current_batch_file}. 오류: {e}\"); break\n"
   ]
  },
  {
   "cell_type": "code",
   "execution_count": null,
   "id": "c4f83b87",
   "metadata": {},
   "outputs": [],
   "source": [
    "\n",
    "# --- 4. 최종 패키징 ---\n",
    "if all_collected_files:\n",
    "    package_name = f\"data_package_{datetime.now().strftime('%Y%m%d_%H%M%S')}\"\n",
    "    create_package(package_name, all_collected_files)\n",
    "else:\n",
    "    print(\"\\n⚠️ 수집된 파일이 없어 패키지를 생성하지 않습니다.\")\n",
    "\n",
    "print(\"\\n🎉 모든 데이터 수집 및 패키징 작업이 완료되었습니다!\")"
   ]
  }
 ],
 "metadata": {
  "kernelspec": {
   "display_name": "mywork",
   "language": "python",
   "name": "python3"
  },
  "language_info": {
   "codemirror_mode": {
    "name": "ipython",
    "version": 3
   },
   "file_extension": ".py",
   "mimetype": "text/x-python",
   "name": "python",
   "nbconvert_exporter": "python",
   "pygments_lexer": "ipython3",
   "version": "3.12.11"
  }
 },
 "nbformat": 4,
 "nbformat_minor": 5
}
