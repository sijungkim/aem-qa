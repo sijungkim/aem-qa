{
 "cells": [
  {
   "cell_type": "code",
   "execution_count": 1,
   "id": "98ef8fa3",
   "metadata": {},
   "outputs": [],
   "source": [
    "# notebooks/7_analyze_structure_diff.ipynb\n",
    "\n",
    "# #################################################################\n",
    "# Cell 1: 설정\n",
    "# #################################################################\n",
    "import os\n",
    "import sys\n",
    "sys.path.append(os.path.abspath('../src'))\n",
    "\n",
    "# 폴더 경로를 찾지 못할 경우를 대비하여 analyzers 경로도 추가\n",
    "sys.path.append(os.path.abspath('../src/analyzers'))\n",
    "\n",
    "from page_structure_analyzer import PageStructureAnalyzer\n",
    "\n",
    "# 처리할 언어 쌍 목록을 정의합니다.\n",
    "# 6번 노트북과 동일한 구조를 사용합니다.\n",
    "LANGUAGE_PAIRS = {\n",
    "    \"1\": (\"lm-en\", \"spac-ko_KR\", \"en_ko\"),\n",
    "    \"2\": (\"apac-en\", \"apac-ja_JP\", \"en_ja\"),\n",
    "}\n",
    "\n"
   ]
  },
  {
   "cell_type": "code",
   "execution_count": 2,
   "id": "a5976ed3",
   "metadata": {},
   "outputs": [
    {
     "name": "stdout",
     "output_type": "stream",
     "text": [
      "구조 차이를 분석할 언어 쌍을 선택하세요:\n",
      "\n",
      "  [1] lm-en vs spac-ko_KR\n",
      "  [2] apac-en vs apac-ja_JP\n",
      "\n",
      "✅ 'en_ja' 쌍에 대한 구조 분석을 시작합니다.\n"
     ]
    }
   ],
   "source": [
    "# #################################################################\n",
    "# Cell 2: 사용자 선택\n",
    "# #################################################################\n",
    "print(\"구조 차이를 분석할 언어 쌍을 선택하세요:\\n\")\n",
    "\n",
    "for key, (source, target, _) in LANGUAGE_PAIRS.items():\n",
    "    print(f\"  [{key}] {source} vs {target}\")\n",
    "\n",
    "choice = input(\"\\n번호를 입력하세요: \")\n",
    "\n",
    "if choice in LANGUAGE_PAIRS:\n",
    "    selected_pair = LANGUAGE_PAIRS[choice]\n",
    "    print(f\"\\n✅ '{selected_pair[2]}' 쌍에 대한 구조 분석을 시작합니다.\")\n",
    "else:\n",
    "    selected_pair = None\n",
    "    print(\"\\n❌ 잘못된 번호를 선택했습니다. 스크립트를 중지합니다.\")\n",
    "\n"
   ]
  },
  {
   "cell_type": "code",
   "execution_count": 3,
   "id": "2a924415",
   "metadata": {},
   "outputs": [
    {
     "name": "stdout",
     "output_type": "stream",
     "text": [
      "✅ MongoDB에 연결되었습니다.\n",
      "🔄 'untranslated_components_en_ja' 컬렉션에서 페이지 목록을 가져오는 중...\n",
      "   - ✅ 분석 대상 페이지 72개를 찾았습니다.\n",
      "🔄 [en_ja] 페이지별 구조 차이 분석 시작...\n",
      "   - ✅ 분석 완료.\n",
      "🎉 리포트 생성 완료! -> /mnt/d/Cloud-Synced/Illumina/OneDrive - Illumina, Inc/aem_qa_system/reports/page_structure_diff_en_ja.csv\n"
     ]
    }
   ],
   "source": [
    "# #################################################################\n",
    "# Cell 3: 실행\n",
    "# #################################################################\n",
    "if selected_pair:\n",
    "    source_ver, target_ver, suffix = selected_pair\n",
    "    \n",
    "    # 1. 페이지 구조 분석기 객체를 생성합니다.\n",
    "    analyzer = PageStructureAnalyzer()\n",
    "\n",
    "    # 2. 선택된 언어 쌍으로 분석을 실행하고 리포트를 생성합니다.\n",
    "    analyzer.analyze(\n",
    "        source_version=source_ver,\n",
    "        target_version=target_ver,\n",
    "        lang_suffix=suffix\n",
    "    )"
   ]
  }
 ],
 "metadata": {
  "kernelspec": {
   "display_name": "mywork",
   "language": "python",
   "name": "python3"
  },
  "language_info": {
   "codemirror_mode": {
    "name": "ipython",
    "version": 3
   },
   "file_extension": ".py",
   "mimetype": "text/x-python",
   "name": "python",
   "nbconvert_exporter": "python",
   "pygments_lexer": "ipython3",
   "version": "3.12.11"
  }
 },
 "nbformat": 4,
 "nbformat_minor": 5
}
