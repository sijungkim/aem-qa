{
 "cells": [
  {
   "cell_type": "code",
   "execution_count": null,
   "id": "a3eb11ee",
   "metadata": {},
   "outputs": [],
   "source": [
    "# notebooks/1_process_linguist_assets.ipynb - Cell 1\n",
    "\n",
    "import os\n",
    "import sys\n",
    "# src 폴더를 파이썬 경로에 추가하여 .py 부품들을 import 할 수 있게 함\n",
    "sys.path.append(os.path.abspath('../src'))\n",
    "\n",
    "# 👇 config에서 필요한 변수들을 직접 import 합니다.\n",
    "from config import INPUT_DIR, PROCESSED_DIR, BASE_TM_CSV, GLOSSARY_CSV\n",
    "# 👇 utils 폴더의 부품도 import 합니다.\n",
    "from utils.excel_processor import create_base_tm_from_folder, create_glossary_from_folder\n"
   ]
  },
  {
   "cell_type": "code",
   "execution_count": null,
   "id": "45d12d47",
   "metadata": {},
   "outputs": [],
   "source": [
    "# --- 2. 용어집 처리 ---\n",
    "\n",
    "create_glossary_from_folder(\n",
    "    input_folder=os.path.join(INPUT_DIR, \"source_excels\", \"glossary\"),\n",
    "    output_path=GLOSSARY_CSV\n",
    ")"
   ]
  },
  {
   "cell_type": "code",
   "execution_count": null,
   "id": "1b517883",
   "metadata": {},
   "outputs": [],
   "source": [
    "# --- 1. 기반 TM 처리 ---\n",
    "\n",
    "\n",
    "create_base_tm_from_folder(\n",
    "    input_folder=os.path.join(INPUT_DIR, \"source_excels\", \"tm\"),\n",
    "    output_path=BASE_TM_CSV\n",
    ")"
   ]
  }
 ],
 "metadata": {
  "kernelspec": {
   "display_name": "mywork",
   "language": "python",
   "name": "python3"
  },
  "language_info": {
   "codemirror_mode": {
    "name": "ipython",
    "version": 3
   },
   "file_extension": ".py",
   "mimetype": "text/x-python",
   "name": "python",
   "nbconvert_exporter": "python",
   "pygments_lexer": "ipython3",
   "version": "3.12.11"
  }
 },
 "nbformat": 4,
 "nbformat_minor": 5
}
