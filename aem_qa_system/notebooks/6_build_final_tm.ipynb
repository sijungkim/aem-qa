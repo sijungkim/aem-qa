{
 "cells": [
  {
   "cell_type": "code",
   "execution_count": null,
   "id": "8878cd1e",
   "metadata": {},
   "outputs": [],
   "source": [
    "# notebooks/6_build_final_tm.ipynb\n",
    "\n",
    "# #################################################################\n",
    "# Cell 1: 설정\n",
    "# #################################################################\n",
    "import os\n",
    "import sys\n",
    "sys.path.append(os.path.abspath('../src'))\n",
    "\n",
    "from processors.aem_tm_builder import AEMTMBuilder\n",
    "\n",
    "# 처리할 언어 쌍 목록을 정의합니다.\n",
    "# 키: 사용자가 입력할 번호, 값: (소스 버전, 타겟 버전, 파일명 접미사)\n",
    "LANGUAGE_PAIRS = {\n",
    "    \"1\": (\"lm-en\", \"spac-ko_KR\", \"en_ko\"),\n",
    "    \"2\": (\"apac-en\", \"apac-ja_JP\", \"en_ja\"),\n",
    "    # 나중에 다른 언어 쌍을 여기에 추가할 수 있습니다.\n",
    "    # \"3\": (\"lm-en\", \"emea-de_DE\", \"en_de\"),\n",
    "}\n",
    "\n"
   ]
  },
  {
   "cell_type": "code",
   "execution_count": null,
   "id": "54b3c929",
   "metadata": {},
   "outputs": [],
   "source": [
    "# #################################################################\n",
    "# Cell 2: 사용자 선택\n",
    "# #################################################################\n",
    "print(\"TM을 생성할 언어 쌍을 선택하세요:\\n\")\n",
    "\n",
    "for key, (source, target, _) in LANGUAGE_PAIRS.items():\n",
    "    print(f\"  [{key}] {source} -> {target}\")\n",
    "\n",
    "choice = input(\"\\n번호를 입력하세요: \")\n",
    "\n",
    "if choice in LANGUAGE_PAIRS:\n",
    "    selected_pair = LANGUAGE_PAIRS[choice]\n",
    "    print(f\"\\n✅ '{selected_pair[2]}' 쌍에 대한 TM 생성을 시작합니다.\")\n",
    "else:\n",
    "    selected_pair = None\n",
    "    print(\"\\n❌ 잘못된 번호를 선택했습니다. 스크립트를 중지합니다.\")\n",
    "\n"
   ]
  },
  {
   "cell_type": "code",
   "execution_count": null,
   "id": "161f3825",
   "metadata": {},
   "outputs": [],
   "source": [
    "# #################################################################\n",
    "# Cell 3: 실행\n",
    "# #################################################################\n",
    "if selected_pair:\n",
    "    source_ver, target_ver, suffix = selected_pair\n",
    "    \n",
    "    # 1. TM 빌더 객체를 생성합니다.\n",
    "    builder = AEMTMBuilder()\n",
    "\n",
    "    # 2. 선택된 언어 쌍으로 TM 생성을 실행합니다.\n",
    "    builder.build(\n",
    "        source_version=source_ver,\n",
    "        target_version=target_ver,\n",
    "        lang_suffix=suffix\n",
    "    )\n",
    "    \n",
    "    print(\"\\n🎉 모든 작업이 완료되었습니다! `data/3_processed` 및 `reports` 폴더에서 결과물을 확인하세요.\")"
   ]
  }
 ],
 "metadata": {
  "kernelspec": {
   "display_name": "mywork",
   "language": "python",
   "name": "python3"
  },
  "language_info": {
   "codemirror_mode": {
    "name": "ipython",
    "version": 3
   },
   "file_extension": ".py",
   "mimetype": "text/x-python",
   "name": "python",
   "nbconvert_exporter": "python",
   "pygments_lexer": "ipython3",
   "version": "3.12.11"
  }
 },
 "nbformat": 4,
 "nbformat_minor": 5
}
