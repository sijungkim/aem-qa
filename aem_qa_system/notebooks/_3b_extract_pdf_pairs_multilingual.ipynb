{
 "cells": [
  {
   "cell_type": "code",
   "execution_count": 7,
   "id": "0ae0ccec",
   "metadata": {},
   "outputs": [
    {
     "name": "stdout",
     "output_type": "stream",
     "text": [
      "🌐 처리할 언어 쌍: [('en', 'ko'), ('en', 'ja')]\n",
      "📁 PDF 폴더: /mnt/d/Cloud-Synced/Illumina/OneDrive - Illumina, Inc/aem_qa_system/data/2_downloaded/pdfs\n",
      "📁 결과 저장 폴더: /mnt/d/Cloud-Synced/Illumina/OneDrive - Illumina, Inc/aem_qa_system/data/3_processed\n",
      "   - EN: 101개 PDF\n",
      "   - KO: ❌ 폴더 없음 (/mnt/d/Cloud-Synced/Illumina/OneDrive - Illumina, Inc/aem_qa_system/data/2_downloaded/pdfs/ko)\n",
      "   - EN: 101개 PDF\n",
      "   - JA: 95개 PDF\n"
     ]
    }
   ],
   "source": [
    "# ========================================\n",
    "# Cell 1: 라이브러리 import 및 설정\n",
    "# ========================================\n",
    "\n",
    "import os\n",
    "import sys\n",
    "import pandas as pd\n",
    "sys.path.append(os.path.abspath('../src'))\n",
    "\n",
    "from processors.pdf_text_extractor import PDFTextExtractor\n",
    "from processors.pdf_pair_matcher import PDFPairMatcher\n",
    "from processors.translation_pair_generator import TranslationPairGenerator\n",
    "from config import PROCESSED_DIR, PDF_DOWNLOAD_DIR\n",
    "\n",
    "# 처리할 언어 쌍들 정의\n",
    "LANGUAGE_PAIRS = [\n",
    "    ('en', 'ko'),  # 영어-한국어\n",
    "    ('en', 'ja'),  # 영어-일본어\n",
    "]\n",
    "\n",
    "# 필요한 디렉토리 생성\n",
    "os.makedirs(PROCESSED_DIR, exist_ok=True)\n",
    "\n",
    "print(f\"🌐 처리할 언어 쌍: {LANGUAGE_PAIRS}\")\n",
    "print(f\"📁 PDF 폴더: {PDF_DOWNLOAD_DIR}\")\n",
    "print(f\"📁 결과 저장 폴더: {PROCESSED_DIR}\")\n",
    "\n",
    "# PDF 폴더 존재 확인\n",
    "for lang_pair in LANGUAGE_PAIRS:\n",
    "    for lang in lang_pair:\n",
    "        lang_dir = os.path.join(PDF_DOWNLOAD_DIR, lang)\n",
    "        if os.path.exists(lang_dir):\n",
    "            pdf_count = len([f for f in os.listdir(lang_dir) if f.endswith('.pdf')])\n",
    "            print(f\"   - {lang.upper()}: {pdf_count}개 PDF\")\n",
    "        else:\n",
    "            print(f\"   - {lang.upper()}: ❌ 폴더 없음 ({lang_dir})\")\n",
    "\n",
    "\n"
   ]
  },
  {
   "cell_type": "code",
   "execution_count": 8,
   "id": "5e39fd49",
   "metadata": {},
   "outputs": [
    {
     "name": "stdout",
     "output_type": "stream",
     "text": [
      "\n",
      "================================================================================\n",
      "🔄 EN-KO 언어 쌍 처리 시작\n",
      "================================================================================\n",
      "❌ 매칭 테이블을 찾을 수 없습니다: /mnt/d/Cloud-Synced/Illumina/OneDrive - Illumina, Inc/aem_qa_system/data/1_input/pdf_list_master_en_ko.csv\n",
      "❌ EN-KO PDF 페어를 찾을 수 없습니다.\n",
      "\n",
      "================================================================================\n",
      "🔄 EN-JA 언어 쌍 처리 시작\n",
      "================================================================================\n",
      "📋 EN-JA 매칭 테이블에서 101개 항목을 로드했습니다.\n",
      "✅ 실제 존재하는 100개의 EN-JA PDF 페어를 발견했습니다.\n",
      "\n",
      "[1/100] 처리 중: nextseq-1000-2000-wgs-app-note-M-GL-01148-jpn.pdf\n",
      "   - EN: 163개, JA: 108개 세그먼트\n",
      "🤖 임베딩 모델을 로드하는 중...\n",
      "✅ 임베딩 모델 로드 완료.\n"
     ]
    },
    {
     "name": "stderr",
     "output_type": "stream",
     "text": [
      "/home/cjkim/anaconda3/envs/mywork/lib/python3.12/site-packages/torch/nn/modules/module.py:1762: FutureWarning: `encoder_attention_mask` is deprecated and will be removed in version 4.55.0 for `XLMRobertaSdpaSelfAttention.forward`.\n",
      "  return forward_call(*args, **kwargs)\n"
     ]
    },
    {
     "name": "stdout",
     "output_type": "stream",
     "text": [
      "   - ✅ 19개 번역 쌍 생성\n",
      "\n",
      "[2/100] 처리 중: trusight-oncology-500-ctdna-data-sheet-m-gl-00843-jpn.pdf\n",
      "   - EN: 356개, JA: 176개 세그먼트\n"
     ]
    },
    {
     "name": "stderr",
     "output_type": "stream",
     "text": [
      "/home/cjkim/anaconda3/envs/mywork/lib/python3.12/site-packages/torch/nn/modules/module.py:1762: FutureWarning: `encoder_attention_mask` is deprecated and will be removed in version 4.55.0 for `XLMRobertaSdpaSelfAttention.forward`.\n",
      "  return forward_call(*args, **kwargs)\n"
     ]
    },
    {
     "name": "stdout",
     "output_type": "stream",
     "text": [
      "   - ✅ 63개 번역 쌍 생성\n",
      "\n",
      "[3/100] 처리 중: scrna-seq-app-note-m-gl-01139-jpn.pdf\n",
      "   - EN: 1026개, JA: 583개 세그먼트\n"
     ]
    },
    {
     "name": "stderr",
     "output_type": "stream",
     "text": [
      "/home/cjkim/anaconda3/envs/mywork/lib/python3.12/site-packages/torch/nn/modules/module.py:1762: FutureWarning: `encoder_attention_mask` is deprecated and will be removed in version 4.55.0 for `XLMRobertaSdpaSelfAttention.forward`.\n",
      "  return forward_call(*args, **kwargs)\n"
     ]
    },
    {
     "name": "stdout",
     "output_type": "stream",
     "text": [
      "   - ✅ 426개 번역 쌍 생성\n",
      "\n",
      "[4/100] 처리 중: illumina-long-read-prep-data-sheet-m-gl-01420-jpn.pdf\n",
      "   - EN: 245개, JA: 137개 세그먼트\n"
     ]
    },
    {
     "name": "stderr",
     "output_type": "stream",
     "text": [
      "/home/cjkim/anaconda3/envs/mywork/lib/python3.12/site-packages/torch/nn/modules/module.py:1762: FutureWarning: `encoder_attention_mask` is deprecated and will be removed in version 4.55.0 for `XLMRobertaSdpaSelfAttention.forward`.\n",
      "  return forward_call(*args, **kwargs)\n"
     ]
    },
    {
     "name": "stdout",
     "output_type": "stream",
     "text": [
      "   - ✅ 60개 번역 쌍 생성\n",
      "\n",
      "[5/100] 처리 중: emedgene-data-sheet-m-gl-01057-jpn.pdf\n",
      "   - EN: 321개, JA: 118개 세그먼트\n"
     ]
    },
    {
     "name": "stderr",
     "output_type": "stream",
     "text": [
      "/home/cjkim/anaconda3/envs/mywork/lib/python3.12/site-packages/torch/nn/modules/module.py:1762: FutureWarning: `encoder_attention_mask` is deprecated and will be removed in version 4.55.0 for `XLMRobertaSdpaSelfAttention.forward`.\n",
      "  return forward_call(*args, **kwargs)\n"
     ]
    },
    {
     "name": "stdout",
     "output_type": "stream",
     "text": [
      "   - ✅ 44개 번역 쌍 생성\n",
      "\n",
      "[6/100] 처리 중: dragen-bio-it-data-sheet-m-gl-00680-jpn.pdf\n",
      "   - EN: 398개, JA: 191개 세그먼트\n"
     ]
    },
    {
     "name": "stderr",
     "output_type": "stream",
     "text": [
      "/home/cjkim/anaconda3/envs/mywork/lib/python3.12/site-packages/torch/nn/modules/module.py:1762: FutureWarning: `encoder_attention_mask` is deprecated and will be removed in version 4.55.0 for `XLMRobertaSdpaSelfAttention.forward`.\n",
      "  return forward_call(*args, **kwargs)\n"
     ]
    },
    {
     "name": "stdout",
     "output_type": "stream",
     "text": [
      "   - ✅ 74개 번역 쌍 생성\n",
      "\n",
      "[7/100] 처리 중: respiratory-pathogen-id-amr-panel-flyer-m-gl-00114-jpn.pdf\n",
      "   - EN: 99개, JA: 43개 세그먼트\n"
     ]
    },
    {
     "name": "stderr",
     "output_type": "stream",
     "text": [
      "/home/cjkim/anaconda3/envs/mywork/lib/python3.12/site-packages/torch/nn/modules/module.py:1762: FutureWarning: `encoder_attention_mask` is deprecated and will be removed in version 4.55.0 for `XLMRobertaSdpaSelfAttention.forward`.\n",
      "  return forward_call(*args, **kwargs)\n"
     ]
    },
    {
     "name": "stdout",
     "output_type": "stream",
     "text": [
      "   - ✅ 26개 번역 쌍 생성\n",
      "\n",
      "[8/100] 처리 중: ilmn-long-read-hu-tech-note-m-gl-01421-jpn.pdf\n",
      "   - EN: 232개, JA: 136개 세그먼트\n"
     ]
    },
    {
     "name": "stderr",
     "output_type": "stream",
     "text": [
      "/home/cjkim/anaconda3/envs/mywork/lib/python3.12/site-packages/torch/nn/modules/module.py:1762: FutureWarning: `encoder_attention_mask` is deprecated and will be removed in version 4.55.0 for `XLMRobertaSdpaSelfAttention.forward`.\n",
      "  return forward_call(*args, **kwargs)\n"
     ]
    },
    {
     "name": "stdout",
     "output_type": "stream",
     "text": [
      "   - ✅ 46개 번역 쌍 생성\n",
      "\n",
      "[9/100] 처리 중: upip-flyer-m-gl-01191-jpn.pdf\n",
      "   - EN: 55개, JA: 22개 세그먼트\n"
     ]
    },
    {
     "name": "stderr",
     "output_type": "stream",
     "text": [
      "/home/cjkim/anaconda3/envs/mywork/lib/python3.12/site-packages/torch/nn/modules/module.py:1762: FutureWarning: `encoder_attention_mask` is deprecated and will be removed in version 4.55.0 for `XLMRobertaSdpaSelfAttention.forward`.\n",
      "  return forward_call(*args, **kwargs)\n"
     ]
    },
    {
     "name": "stdout",
     "output_type": "stream",
     "text": [
      "   - ✅ 11개 번역 쌍 생성\n",
      "\n",
      "[10/100] 처리 중: predict-data-sheet-m-gl-01186-jpn.pdf\n",
      "   - EN: 237개, JA: 126개 세그먼트\n"
     ]
    },
    {
     "name": "stderr",
     "output_type": "stream",
     "text": [
      "/home/cjkim/anaconda3/envs/mywork/lib/python3.12/site-packages/torch/nn/modules/module.py:1762: FutureWarning: `encoder_attention_mask` is deprecated and will be removed in version 4.55.0 for `XLMRobertaSdpaSelfAttention.forward`.\n",
      "  return forward_call(*args, **kwargs)\n"
     ]
    },
    {
     "name": "stdout",
     "output_type": "stream",
     "text": [
      "   - ✅ 50개 번역 쌍 생성\n",
      "\n",
      "[11/100] 처리 중: agrigenomics-research-review-jpn.pdf\n",
      "   - EN: 2890개, JA: 1839개 세그먼트\n"
     ]
    },
    {
     "name": "stderr",
     "output_type": "stream",
     "text": [
      "/home/cjkim/anaconda3/envs/mywork/lib/python3.12/site-packages/torch/nn/modules/module.py:1762: FutureWarning: `encoder_attention_mask` is deprecated and will be removed in version 4.55.0 for `XLMRobertaSdpaSelfAttention.forward`.\n",
      "  return forward_call(*args, **kwargs)\n"
     ]
    },
    {
     "name": "stdout",
     "output_type": "stream",
     "text": [
      "   - ✅ 1164개 번역 쌍 생성\n",
      "\n",
      "[12/100] 처리 중: gene-editing-publication-dl.html\n",
      "   - EN: 1681개, JA: 36개 세그먼트\n"
     ]
    },
    {
     "name": "stderr",
     "output_type": "stream",
     "text": [
      "/home/cjkim/anaconda3/envs/mywork/lib/python3.12/site-packages/torch/nn/modules/module.py:1762: FutureWarning: `encoder_attention_mask` is deprecated and will be removed in version 4.55.0 for `XLMRobertaSdpaSelfAttention.forward`.\n",
      "  return forward_call(*args, **kwargs)\n"
     ]
    },
    {
     "name": "stdout",
     "output_type": "stream",
     "text": [
      "   - ✅ 3개 번역 쌍 생성\n",
      "\n",
      "[13/100] 처리 중: singlecell-publication-vol2-dl.html\n",
      "   - EN: 6026개, JA: 24개 세그먼트\n"
     ]
    },
    {
     "name": "stderr",
     "output_type": "stream",
     "text": [
      "/home/cjkim/anaconda3/envs/mywork/lib/python3.12/site-packages/torch/nn/modules/module.py:1762: FutureWarning: `encoder_attention_mask` is deprecated and will be removed in version 4.55.0 for `XLMRobertaSdpaSelfAttention.forward`.\n",
      "  return forward_call(*args, **kwargs)\n"
     ]
    },
    {
     "name": "stdout",
     "output_type": "stream",
     "text": [
      "   - ✅ 1개 번역 쌍 생성\n",
      "\n",
      "[14/100] 처리 중: complex-disease-publication-dl.html\n",
      "   - EN: 2776개, JA: 25개 세그먼트\n"
     ]
    },
    {
     "name": "stderr",
     "output_type": "stream",
     "text": [
      "/home/cjkim/anaconda3/envs/mywork/lib/python3.12/site-packages/torch/nn/modules/module.py:1762: FutureWarning: `encoder_attention_mask` is deprecated and will be removed in version 4.55.0 for `XLMRobertaSdpaSelfAttention.forward`.\n",
      "  return forward_call(*args, **kwargs)\n"
     ]
    },
    {
     "name": "stdout",
     "output_type": "stream",
     "text": [
      "   - ✅ 1개 번역 쌍 생성\n",
      "\n",
      "[15/100] 처리 중: emedgene-brochure-m-gl-01089-jpn.pdf\n",
      "   - EN: 105개, JA: 25개 세그먼트\n"
     ]
    },
    {
     "name": "stderr",
     "output_type": "stream",
     "text": [
      "/home/cjkim/anaconda3/envs/mywork/lib/python3.12/site-packages/torch/nn/modules/module.py:1762: FutureWarning: `encoder_attention_mask` is deprecated and will be removed in version 4.55.0 for `XLMRobertaSdpaSelfAttention.forward`.\n",
      "  return forward_call(*args, **kwargs)\n"
     ]
    },
    {
     "name": "stdout",
     "output_type": "stream",
     "text": [
      "   - ✅ 10개 번역 쌍 생성\n",
      "\n",
      "[16/100] 처리 중: miseqdx-instrument-data-sheet-m-na-00005-jpn.pdf\n",
      "   - EN: 297개, JA: 77개 세그먼트\n"
     ]
    },
    {
     "name": "stderr",
     "output_type": "stream",
     "text": [
      "/home/cjkim/anaconda3/envs/mywork/lib/python3.12/site-packages/torch/nn/modules/module.py:1762: FutureWarning: `encoder_attention_mask` is deprecated and will be removed in version 4.55.0 for `XLMRobertaSdpaSelfAttention.forward`.\n",
      "  return forward_call(*args, **kwargs)\n"
     ]
    },
    {
     "name": "stdout",
     "output_type": "stream",
     "text": [
      "   - ✅ 32개 번역 쌍 생성\n",
      "\n",
      "[17/100] 처리 중: novaseq-6000dx-system-spec-sheet-m-gl-00766-jpn.pdf\n",
      "   - EN: 227개, JA: 85개 세그먼트\n"
     ]
    },
    {
     "name": "stderr",
     "output_type": "stream",
     "text": [
      "/home/cjkim/anaconda3/envs/mywork/lib/python3.12/site-packages/torch/nn/modules/module.py:1762: FutureWarning: `encoder_attention_mask` is deprecated and will be removed in version 4.55.0 for `XLMRobertaSdpaSelfAttention.forward`.\n",
      "  return forward_call(*args, **kwargs)\n"
     ]
    },
    {
     "name": "stdout",
     "output_type": "stream",
     "text": [
      "   - ✅ 28개 번역 쌍 생성\n",
      "\n",
      "[18/100] 처리 중: cancer-research-methods-guide-m-amr-00521-jpn.pdf\n",
      "   - EN: 2042개, JA: 548개 세그먼트\n"
     ]
    },
    {
     "name": "stderr",
     "output_type": "stream",
     "text": [
      "/home/cjkim/anaconda3/envs/mywork/lib/python3.12/site-packages/torch/nn/modules/module.py:1762: FutureWarning: `encoder_attention_mask` is deprecated and will be removed in version 4.55.0 for `XLMRobertaSdpaSelfAttention.forward`.\n",
      "  return forward_call(*args, **kwargs)\n"
     ]
    },
    {
     "name": "stdout",
     "output_type": "stream",
     "text": [
      "   - ✅ 277개 번역 쌍 생성\n",
      "\n",
      "[19/100] 처리 중: novaseqx-applications-ebook-m-gl-01796-jpn.pdf\n",
      "   - EN: 1299개, JA: 652개 세그먼트\n"
     ]
    },
    {
     "name": "stderr",
     "output_type": "stream",
     "text": [
      "/home/cjkim/anaconda3/envs/mywork/lib/python3.12/site-packages/torch/nn/modules/module.py:1762: FutureWarning: `encoder_attention_mask` is deprecated and will be removed in version 4.55.0 for `XLMRobertaSdpaSelfAttention.forward`.\n",
      "  return forward_call(*args, **kwargs)\n"
     ]
    },
    {
     "name": "stdout",
     "output_type": "stream",
     "text": [
      "   - ✅ 486개 번역 쌍 생성\n",
      "\n",
      "[20/100] 처리 중: illumina-connected-analytics-okayama-case-study-m-gl-01639-jpn.pdf\n",
      "   - EN: 85개, JA: 35개 세그먼트\n"
     ]
    },
    {
     "name": "stderr",
     "output_type": "stream",
     "text": [
      "/home/cjkim/anaconda3/envs/mywork/lib/python3.12/site-packages/torch/nn/modules/module.py:1762: FutureWarning: `encoder_attention_mask` is deprecated and will be removed in version 4.55.0 for `XLMRobertaSdpaSelfAttention.forward`.\n",
      "  return forward_call(*args, **kwargs)\n"
     ]
    },
    {
     "name": "stdout",
     "output_type": "stream",
     "text": [
      "   - ✅ 10개 번역 쌍 생성\n",
      "\n",
      "[21/100] 처리 중: multiomics-ebook-m-gl-00120-jpn.pdf\n",
      "   - EN: 680개, JA: 197개 세그먼트\n"
     ]
    },
    {
     "name": "stderr",
     "output_type": "stream",
     "text": [
      "/home/cjkim/anaconda3/envs/mywork/lib/python3.12/site-packages/torch/nn/modules/module.py:1762: FutureWarning: `encoder_attention_mask` is deprecated and will be removed in version 4.55.0 for `XLMRobertaSdpaSelfAttention.forward`.\n",
      "  return forward_call(*args, **kwargs)\n"
     ]
    },
    {
     "name": "stdout",
     "output_type": "stream",
     "text": [
      "   - ✅ 114개 번역 쌍 생성\n",
      "\n",
      "[22/100] 처리 중: gene-expression-ebook-m-gl-00258-jpn.pdf\n",
      "   - EN: 1176개, JA: 712개 세그먼트\n"
     ]
    },
    {
     "name": "stderr",
     "output_type": "stream",
     "text": [
      "/home/cjkim/anaconda3/envs/mywork/lib/python3.12/site-packages/torch/nn/modules/module.py:1762: FutureWarning: `encoder_attention_mask` is deprecated and will be removed in version 4.55.0 for `XLMRobertaSdpaSelfAttention.forward`.\n",
      "  return forward_call(*args, **kwargs)\n"
     ]
    },
    {
     "name": "stdout",
     "output_type": "stream",
     "text": [
      "   - ✅ 518개 번역 쌍 생성\n",
      "\n",
      "[23/100] 처리 중: cgp-ebook-m-gl-00129-jpn.pdf\n",
      "   - EN: 844개, JA: 463개 세그먼트\n"
     ]
    },
    {
     "name": "stderr",
     "output_type": "stream",
     "text": [
      "/home/cjkim/anaconda3/envs/mywork/lib/python3.12/site-packages/torch/nn/modules/module.py:1762: FutureWarning: `encoder_attention_mask` is deprecated and will be removed in version 4.55.0 for `XLMRobertaSdpaSelfAttention.forward`.\n",
      "  return forward_call(*args, **kwargs)\n"
     ]
    },
    {
     "name": "stdout",
     "output_type": "stream",
     "text": [
      "   - ✅ 357개 번역 쌍 생성\n",
      "\n",
      "[24/100] 처리 중: novaseq-x-series-brochure-m-us-00202-jpn.pdf\n",
      "   - EN: 197개, JA: 40개 세그먼트\n"
     ]
    },
    {
     "name": "stderr",
     "output_type": "stream",
     "text": [
      "/home/cjkim/anaconda3/envs/mywork/lib/python3.12/site-packages/torch/nn/modules/module.py:1762: FutureWarning: `encoder_attention_mask` is deprecated and will be removed in version 4.55.0 for `XLMRobertaSdpaSelfAttention.forward`.\n",
      "  return forward_call(*args, **kwargs)\n"
     ]
    },
    {
     "name": "stdout",
     "output_type": "stream",
     "text": [
      "   - ✅ 9개 번역 쌍 생성\n",
      "\n",
      "[25/100] 처리 중: novaseq-x-series-specification-sheet-m-us-00197-jpn.pdf\n",
      "   - EN: 440개, JA: 174개 세그먼트\n"
     ]
    },
    {
     "name": "stderr",
     "output_type": "stream",
     "text": [
      "/home/cjkim/anaconda3/envs/mywork/lib/python3.12/site-packages/torch/nn/modules/module.py:1762: FutureWarning: `encoder_attention_mask` is deprecated and will be removed in version 4.55.0 for `XLMRobertaSdpaSelfAttention.forward`.\n",
      "  return forward_call(*args, **kwargs)\n"
     ]
    },
    {
     "name": "stdout",
     "output_type": "stream",
     "text": [
      "   - ✅ 96개 번역 쌍 생성\n",
      "\n",
      "[26/100] 처리 중: novaseq-x-data-concordance-app-note-m-us-00201-jpn.pdf\n",
      "   - EN: 381개, JA: 189개 세그먼트\n"
     ]
    },
    {
     "name": "stderr",
     "output_type": "stream",
     "text": [
      "/home/cjkim/anaconda3/envs/mywork/lib/python3.12/site-packages/torch/nn/modules/module.py:1762: FutureWarning: `encoder_attention_mask` is deprecated and will be removed in version 4.55.0 for `XLMRobertaSdpaSelfAttention.forward`.\n",
      "  return forward_call(*args, **kwargs)\n"
     ]
    },
    {
     "name": "stdout",
     "output_type": "stream",
     "text": [
      "   - ✅ 73개 번역 쌍 생성\n",
      "\n",
      "[27/100] 처리 중: illmn-nanostring-geomx-proteo-app-note-m-gl-00968-jpn.pdf\n",
      "   - EN: 352개, JA: 184개 세그먼트\n"
     ]
    },
    {
     "name": "stderr",
     "output_type": "stream",
     "text": [
      "/home/cjkim/anaconda3/envs/mywork/lib/python3.12/site-packages/torch/nn/modules/module.py:1762: FutureWarning: `encoder_attention_mask` is deprecated and will be removed in version 4.55.0 for `XLMRobertaSdpaSelfAttention.forward`.\n",
      "  return forward_call(*args, **kwargs)\n"
     ]
    },
    {
     "name": "stdout",
     "output_type": "stream",
     "text": [
      "   - ✅ 76개 번역 쌍 생성\n",
      "\n",
      "[28/100] 처리 중: illmn-nanostring-geomx-app-note-m-gl-00223-jpn.pdf\n",
      "   - EN: 252개, JA: 113개 세그먼트\n"
     ]
    },
    {
     "name": "stderr",
     "output_type": "stream",
     "text": [
      "/home/cjkim/anaconda3/envs/mywork/lib/python3.12/site-packages/torch/nn/modules/module.py:1762: FutureWarning: `encoder_attention_mask` is deprecated and will be removed in version 4.55.0 for `XLMRobertaSdpaSelfAttention.forward`.\n",
      "  return forward_call(*args, **kwargs)\n"
     ]
    },
    {
     "name": "stdout",
     "output_type": "stream",
     "text": [
      "   - ✅ 46개 번역 쌍 생성\n",
      "\n",
      "[29/100] 처리 중: 10x-gene-expression-tech-note-m-gl-00777-jpn.pdf\n",
      "   - EN: 328개, JA: 199개 세그먼트\n"
     ]
    },
    {
     "name": "stderr",
     "output_type": "stream",
     "text": [
      "/home/cjkim/anaconda3/envs/mywork/lib/python3.12/site-packages/torch/nn/modules/module.py:1762: FutureWarning: `encoder_attention_mask` is deprecated and will be removed in version 4.55.0 for `XLMRobertaSdpaSelfAttention.forward`.\n",
      "  return forward_call(*args, **kwargs)\n"
     ]
    },
    {
     "name": "stdout",
     "output_type": "stream",
     "text": [
      "   - ✅ 107개 번역 쌍 생성\n",
      "\n",
      "[30/100] 처리 중: multiomic-approach-immunology-10x-genomics-m-gl-00488-jpn.pdf\n",
      "   - EN: 435개, JA: 229개 세그먼트\n"
     ]
    },
    {
     "name": "stderr",
     "output_type": "stream",
     "text": [
      "/home/cjkim/anaconda3/envs/mywork/lib/python3.12/site-packages/torch/nn/modules/module.py:1762: FutureWarning: `encoder_attention_mask` is deprecated and will be removed in version 4.55.0 for `XLMRobertaSdpaSelfAttention.forward`.\n",
      "  return forward_call(*args, **kwargs)\n"
     ]
    },
    {
     "name": "stdout",
     "output_type": "stream",
     "text": [
      "   - ✅ 103개 번역 쌍 생성\n",
      "\n",
      "[31/100] 처리 중: nextseq-1k-2k-immune-repertoire-sequencing-m-gl-01149-jpn.pdf\n",
      "   - EN: 226개, JA: 120개 세그먼트\n"
     ]
    },
    {
     "name": "stderr",
     "output_type": "stream",
     "text": [
      "/home/cjkim/anaconda3/envs/mywork/lib/python3.12/site-packages/torch/nn/modules/module.py:1762: FutureWarning: `encoder_attention_mask` is deprecated and will be removed in version 4.55.0 for `XLMRobertaSdpaSelfAttention.forward`.\n",
      "  return forward_call(*args, **kwargs)\n"
     ]
    },
    {
     "name": "stdout",
     "output_type": "stream",
     "text": [
      "   - ✅ 53개 번역 쌍 생성\n",
      "\n",
      "[32/100] 처리 중: nextseq-1000-2000-exome-app-note-m-gl-00479-jpn.pdf\n",
      "   - EN: 342개, JA: 191개 세그먼트\n"
     ]
    },
    {
     "name": "stderr",
     "output_type": "stream",
     "text": [
      "/home/cjkim/anaconda3/envs/mywork/lib/python3.12/site-packages/torch/nn/modules/module.py:1762: FutureWarning: `encoder_attention_mask` is deprecated and will be removed in version 4.55.0 for `XLMRobertaSdpaSelfAttention.forward`.\n",
      "  return forward_call(*args, **kwargs)\n"
     ]
    },
    {
     "name": "stdout",
     "output_type": "stream",
     "text": [
      "   - ✅ 83개 번역 쌍 생성\n",
      "\n",
      "[33/100] 처리 중: ica-data-sheet-m-gl-00684-jpn.pdf\n",
      "   - EN: 311개, JA: 145개 세그먼트\n"
     ]
    },
    {
     "name": "stderr",
     "output_type": "stream",
     "text": [
      "/home/cjkim/anaconda3/envs/mywork/lib/python3.12/site-packages/torch/nn/modules/module.py:1762: FutureWarning: `encoder_attention_mask` is deprecated and will be removed in version 4.55.0 for `XLMRobertaSdpaSelfAttention.forward`.\n",
      "  return forward_call(*args, **kwargs)\n"
     ]
    },
    {
     "name": "stdout",
     "output_type": "stream",
     "text": [
      "   - ✅ 59개 번역 쌍 생성\n",
      "\n",
      "[34/100] 처리 중: novaseq-x-software-ecosystem-tech-note-m-gl-01587-jpn.pdf\n",
      "   - EN: 313개, JA: 134개 세그먼트\n"
     ]
    },
    {
     "name": "stderr",
     "output_type": "stream",
     "text": [
      "/home/cjkim/anaconda3/envs/mywork/lib/python3.12/site-packages/torch/nn/modules/module.py:1762: FutureWarning: `encoder_attention_mask` is deprecated and will be removed in version 4.55.0 for `XLMRobertaSdpaSelfAttention.forward`.\n",
      "  return forward_call(*args, **kwargs)\n"
     ]
    },
    {
     "name": "stdout",
     "output_type": "stream",
     "text": [
      "   - ✅ 53개 번역 쌍 생성\n",
      "\n",
      "[35/100] 처리 중: illumina-connected-insights-data-sheet-m-gl-01399-jpn.pdf\n",
      "   - EN: 434개, JA: 159개 세그먼트\n"
     ]
    },
    {
     "name": "stderr",
     "output_type": "stream",
     "text": [
      "/home/cjkim/anaconda3/envs/mywork/lib/python3.12/site-packages/torch/nn/modules/module.py:1762: FutureWarning: `encoder_attention_mask` is deprecated and will be removed in version 4.55.0 for `XLMRobertaSdpaSelfAttention.forward`.\n",
      "  return forward_call(*args, **kwargs)\n"
     ]
    },
    {
     "name": "stdout",
     "output_type": "stream",
     "text": [
      "   - ✅ 71개 번역 쌍 생성\n",
      "\n",
      "[36/100] 처리 중: 10x-multiomics-tech-note-m-amr-00006-jpn.pdf\n",
      "   - EN: 291개, JA: 153개 세그먼트\n"
     ]
    },
    {
     "name": "stderr",
     "output_type": "stream",
     "text": [
      "/home/cjkim/anaconda3/envs/mywork/lib/python3.12/site-packages/torch/nn/modules/module.py:1762: FutureWarning: `encoder_attention_mask` is deprecated and will be removed in version 4.55.0 for `XLMRobertaSdpaSelfAttention.forward`.\n",
      "  return forward_call(*args, **kwargs)\n"
     ]
    },
    {
     "name": "stdout",
     "output_type": "stream",
     "text": [
      "   - ✅ 64개 번역 쌍 생성\n",
      "\n",
      "[37/100] 처리 중: single-cell-e-book-dl.html\n",
      "   - EN: 1007개, JA: 27개 세그먼트\n"
     ]
    },
    {
     "name": "stderr",
     "output_type": "stream",
     "text": [
      "/home/cjkim/anaconda3/envs/mywork/lib/python3.12/site-packages/torch/nn/modules/module.py:1762: FutureWarning: `encoder_attention_mask` is deprecated and will be removed in version 4.55.0 for `XLMRobertaSdpaSelfAttention.forward`.\n",
      "  return forward_call(*args, **kwargs)\n"
     ]
    },
    {
     "name": "stdout",
     "output_type": "stream",
     "text": [
      "   - ✅ 4개 번역 쌍 생성\n",
      "\n",
      "[38/100] 처리 중: new-to-ngs-ebook-m-amr-00948-jpn.pdf\n",
      "   - EN: 747개, JA: 292개 세그먼트\n"
     ]
    },
    {
     "name": "stderr",
     "output_type": "stream",
     "text": [
      "/home/cjkim/anaconda3/envs/mywork/lib/python3.12/site-packages/torch/nn/modules/module.py:1762: FutureWarning: `encoder_attention_mask` is deprecated and will be removed in version 4.55.0 for `XLMRobertaSdpaSelfAttention.forward`.\n",
      "  return forward_call(*args, **kwargs)\n"
     ]
    },
    {
     "name": "stdout",
     "output_type": "stream",
     "text": [
      "   - ✅ 154개 번역 쌍 생성\n",
      "\n",
      "[39/100] 처리 중: srst-hai-app-note-m-gl-01570-jpn.pdf\n",
      "   - EN: 153개, JA: 84개 세그먼트\n"
     ]
    },
    {
     "name": "stderr",
     "output_type": "stream",
     "text": [
      "/home/cjkim/anaconda3/envs/mywork/lib/python3.12/site-packages/torch/nn/modules/module.py:1762: FutureWarning: `encoder_attention_mask` is deprecated and will be removed in version 4.55.0 for `XLMRobertaSdpaSelfAttention.forward`.\n",
      "  return forward_call(*args, **kwargs)\n"
     ]
    },
    {
     "name": "stdout",
     "output_type": "stream",
     "text": [
      "   - ✅ 41개 번역 쌍 생성\n",
      "\n",
      "[40/100] 처리 중: public-health-surveillance-ebook-jpn.pdf\n",
      "   - EN: 1006개, JA: 432개 세그먼트\n"
     ]
    },
    {
     "name": "stderr",
     "output_type": "stream",
     "text": [
      "/home/cjkim/anaconda3/envs/mywork/lib/python3.12/site-packages/torch/nn/modules/module.py:1762: FutureWarning: `encoder_attention_mask` is deprecated and will be removed in version 4.55.0 for `XLMRobertaSdpaSelfAttention.forward`.\n",
      "  return forward_call(*args, **kwargs)\n"
     ]
    },
    {
     "name": "stdout",
     "output_type": "stream",
     "text": [
      "   - ✅ 228개 번역 쌍 생성\n",
      "\n",
      "[41/100] 처리 중: illumina-connected-insights-data-sheet-m-jp-00141-jpn.pdf\n",
      "   - EN: 435개, JA: 185개 세그먼트\n"
     ]
    },
    {
     "name": "stderr",
     "output_type": "stream",
     "text": [
      "/home/cjkim/anaconda3/envs/mywork/lib/python3.12/site-packages/torch/nn/modules/module.py:1762: FutureWarning: `encoder_attention_mask` is deprecated and will be removed in version 4.55.0 for `XLMRobertaSdpaSelfAttention.forward`.\n",
      "  return forward_call(*args, **kwargs)\n"
     ]
    },
    {
     "name": "stdout",
     "output_type": "stream",
     "text": [
      "   - ✅ 86개 번역 쌍 생성\n",
      "\n",
      "[42/100] 처리 중: emedgene-genetic-disease-research-brochure-m-gl-00570-jpn.pdf\n",
      "   - EN: 111개, JA: 29개 세그먼트\n"
     ]
    },
    {
     "name": "stderr",
     "output_type": "stream",
     "text": [
      "/home/cjkim/anaconda3/envs/mywork/lib/python3.12/site-packages/torch/nn/modules/module.py:1762: FutureWarning: `encoder_attention_mask` is deprecated and will be removed in version 4.55.0 for `XLMRobertaSdpaSelfAttention.forward`.\n",
      "  return forward_call(*args, **kwargs)\n"
     ]
    },
    {
     "name": "stdout",
     "output_type": "stream",
     "text": [
      "   - ✅ 5개 번역 쌍 생성\n",
      "\n",
      "[43/100] 처리 중: dna-methylation-ewas-ebook-m-gl-02112-jpn.pdf\n",
      "   - EN: 1465개, JA: 651개 세그먼트\n"
     ]
    },
    {
     "name": "stderr",
     "output_type": "stream",
     "text": [
      "/home/cjkim/anaconda3/envs/mywork/lib/python3.12/site-packages/torch/nn/modules/module.py:1762: FutureWarning: `encoder_attention_mask` is deprecated and will be removed in version 4.55.0 for `XLMRobertaSdpaSelfAttention.forward`.\n",
      "  return forward_call(*args, **kwargs)\n"
     ]
    },
    {
     "name": "stdout",
     "output_type": "stream",
     "text": [
      "   - ✅ 346개 번역 쌍 생성\n",
      "\n",
      "[44/100] 처리 중: miseq-data-sheet-m-gl-00006-jpn.pdf\n",
      "   - EN: 172개, JA: 81개 세그먼트\n"
     ]
    },
    {
     "name": "stderr",
     "output_type": "stream",
     "text": [
      "/home/cjkim/anaconda3/envs/mywork/lib/python3.12/site-packages/torch/nn/modules/module.py:1762: FutureWarning: `encoder_attention_mask` is deprecated and will be removed in version 4.55.0 for `XLMRobertaSdpaSelfAttention.forward`.\n",
      "  return forward_call(*args, **kwargs)\n"
     ]
    },
    {
     "name": "stdout",
     "output_type": "stream",
     "text": [
      "   - ✅ 33개 번역 쌍 생성\n",
      "\n",
      "[45/100] 처리 중: novaseq-6000-spec-sheet-m-gl-00271-jpn.pdf\n",
      "   - EN: 329개, JA: 149개 세그먼트\n"
     ]
    },
    {
     "name": "stderr",
     "output_type": "stream",
     "text": [
      "/home/cjkim/anaconda3/envs/mywork/lib/python3.12/site-packages/torch/nn/modules/module.py:1762: FutureWarning: `encoder_attention_mask` is deprecated and will be removed in version 4.55.0 for `XLMRobertaSdpaSelfAttention.forward`.\n",
      "  return forward_call(*args, **kwargs)\n"
     ]
    },
    {
     "name": "stdout",
     "output_type": "stream",
     "text": [
      "   - ✅ 60개 번역 쌍 생성\n",
      "\n",
      "[46/100] 처리 중: ribozero-microbiome-app-note-m-gl-00692-jpn.pdf\n",
      "   - EN: 246개, JA: 159개 세그먼트\n"
     ]
    },
    {
     "name": "stderr",
     "output_type": "stream",
     "text": [
      "/home/cjkim/anaconda3/envs/mywork/lib/python3.12/site-packages/torch/nn/modules/module.py:1762: FutureWarning: `encoder_attention_mask` is deprecated and will be removed in version 4.55.0 for `XLMRobertaSdpaSelfAttention.forward`.\n",
      "  return forward_call(*args, **kwargs)\n"
     ]
    },
    {
     "name": "stdout",
     "output_type": "stream",
     "text": [
      "   - ✅ 55개 번역 쌍 생성\n",
      "\n",
      "[47/100] 처리 중: appnote_miseq_denovo-J.pdf\n",
      "   - EN: 105개, JA: 76개 세그먼트\n"
     ]
    },
    {
     "name": "stderr",
     "output_type": "stream",
     "text": [
      "/home/cjkim/anaconda3/envs/mywork/lib/python3.12/site-packages/torch/nn/modules/module.py:1762: FutureWarning: `encoder_attention_mask` is deprecated and will be removed in version 4.55.0 for `XLMRobertaSdpaSelfAttention.forward`.\n",
      "  return forward_call(*args, **kwargs)\n"
     ]
    },
    {
     "name": "stdout",
     "output_type": "stream",
     "text": [
      "   - ✅ 20개 번역 쌍 생성\n",
      "\n",
      "[48/100] 처리 중: microbial-single-genome-guide-m-gl-02702-jpn.pdf\n",
      "   - EN: 421개, JA: 162개 세그먼트\n"
     ]
    },
    {
     "name": "stderr",
     "output_type": "stream",
     "text": [
      "/home/cjkim/anaconda3/envs/mywork/lib/python3.12/site-packages/torch/nn/modules/module.py:1762: FutureWarning: `encoder_attention_mask` is deprecated and will be removed in version 4.55.0 for `XLMRobertaSdpaSelfAttention.forward`.\n",
      "  return forward_call(*args, **kwargs)\n"
     ]
    },
    {
     "name": "stdout",
     "output_type": "stream",
     "text": [
      "   - ✅ 96개 번역 쌍 생성\n",
      "\n",
      "[49/100] 처리 중: iseq100-1-channel-tech-note-770-2013-054-jpn.pdf\n",
      "   - EN: 206개, JA: 127개 세그먼트\n"
     ]
    },
    {
     "name": "stderr",
     "output_type": "stream",
     "text": [
      "/home/cjkim/anaconda3/envs/mywork/lib/python3.12/site-packages/torch/nn/modules/module.py:1762: FutureWarning: `encoder_attention_mask` is deprecated and will be removed in version 4.55.0 for `XLMRobertaSdpaSelfAttention.forward`.\n",
      "  return forward_call(*args, **kwargs)\n"
     ]
    },
    {
     "name": "stdout",
     "output_type": "stream",
     "text": [
      "   - ✅ 43개 번역 쌍 생성\n",
      "\n",
      "[50/100] 처리 중: illumina-genomics-architecture-app-note-m-gl-01991-jpn.pdf\n",
      "   - EN: 123개, JA: 61개 세그먼트\n"
     ]
    },
    {
     "name": "stderr",
     "output_type": "stream",
     "text": [
      "/home/cjkim/anaconda3/envs/mywork/lib/python3.12/site-packages/torch/nn/modules/module.py:1762: FutureWarning: `encoder_attention_mask` is deprecated and will be removed in version 4.55.0 for `XLMRobertaSdpaSelfAttention.forward`.\n",
      "  return forward_call(*args, **kwargs)\n"
     ]
    },
    {
     "name": "stdout",
     "output_type": "stream",
     "text": [
      "   - ✅ 17개 번역 쌍 생성\n",
      "\n",
      "[51/100] 처리 중: dragen-popgen-tech-note-m-gl-00561-jpn.pdf\n",
      "   - EN: 292개, JA: 162개 세그먼트\n"
     ]
    },
    {
     "name": "stderr",
     "output_type": "stream",
     "text": [
      "/home/cjkim/anaconda3/envs/mywork/lib/python3.12/site-packages/torch/nn/modules/module.py:1762: FutureWarning: `encoder_attention_mask` is deprecated and will be removed in version 4.55.0 for `XLMRobertaSdpaSelfAttention.forward`.\n",
      "  return forward_call(*args, **kwargs)\n"
     ]
    },
    {
     "name": "stdout",
     "output_type": "stream",
     "text": [
      "   - ✅ 57개 번역 쌍 생성\n",
      "\n",
      "[52/100] 처리 중: ica-data-security-white-paper-m-gl-00333-jpn.pdf\n",
      "   - EN: 571개, JA: 179개 세그먼트\n"
     ]
    },
    {
     "name": "stderr",
     "output_type": "stream",
     "text": [
      "/home/cjkim/anaconda3/envs/mywork/lib/python3.12/site-packages/torch/nn/modules/module.py:1762: FutureWarning: `encoder_attention_mask` is deprecated and will be removed in version 4.55.0 for `XLMRobertaSdpaSelfAttention.forward`.\n",
      "  return forward_call(*args, **kwargs)\n"
     ]
    },
    {
     "name": "stdout",
     "output_type": "stream",
     "text": [
      "   - ✅ 58개 번역 쌍 생성\n",
      "\n",
      "[53/100] 처리 중: ilmn-long-read-enrich-data-sheet-m-gl-02188-jpn.pdf\n",
      "   - EN: 392개, JA: 221개 세그먼트\n"
     ]
    },
    {
     "name": "stderr",
     "output_type": "stream",
     "text": [
      "/home/cjkim/anaconda3/envs/mywork/lib/python3.12/site-packages/torch/nn/modules/module.py:1762: FutureWarning: `encoder_attention_mask` is deprecated and will be removed in version 4.55.0 for `XLMRobertaSdpaSelfAttention.forward`.\n",
      "  return forward_call(*args, **kwargs)\n"
     ]
    },
    {
     "name": "stdout",
     "output_type": "stream",
     "text": [
      "   - ✅ 116개 번역 쌍 생성\n",
      "\n",
      "[54/100] 처리 중: long-read-enrich-custom-tech-note-m-gl-02189-jpn.pdf\n",
      "   - EN: 274개, JA: 151개 세그먼트\n"
     ]
    },
    {
     "name": "stderr",
     "output_type": "stream",
     "text": [
      "/home/cjkim/anaconda3/envs/mywork/lib/python3.12/site-packages/torch/nn/modules/module.py:1762: FutureWarning: `encoder_attention_mask` is deprecated and will be removed in version 4.55.0 for `XLMRobertaSdpaSelfAttention.forward`.\n",
      "  return forward_call(*args, **kwargs)\n"
     ]
    },
    {
     "name": "stdout",
     "output_type": "stream",
     "text": [
      "   - ✅ 72개 번역 쌍 생성\n",
      "\n",
      "[55/100] 처리 중: iCommunity-Territory-Pathology-M-GL-00868-jpn.pdf\n",
      "   - EN: 344개, JA: 111개 세그먼트\n"
     ]
    },
    {
     "name": "stderr",
     "output_type": "stream",
     "text": [
      "/home/cjkim/anaconda3/envs/mywork/lib/python3.12/site-packages/torch/nn/modules/module.py:1762: FutureWarning: `encoder_attention_mask` is deprecated and will be removed in version 4.55.0 for `XLMRobertaSdpaSelfAttention.forward`.\n",
      "  return forward_call(*args, **kwargs)\n"
     ]
    },
    {
     "name": "stdout",
     "output_type": "stream",
     "text": [
      "   - ✅ 21개 번역 쌍 생성\n",
      "\n",
      "[56/100] 처리 중: infinium-global-clinical-research-array-data-sheet-m-gl-00713-jpn.pdf\n",
      "   - EN: 355개, JA: 171개 세그먼트\n"
     ]
    },
    {
     "name": "stderr",
     "output_type": "stream",
     "text": [
      "/home/cjkim/anaconda3/envs/mywork/lib/python3.12/site-packages/torch/nn/modules/module.py:1762: FutureWarning: `encoder_attention_mask` is deprecated and will be removed in version 4.55.0 for `XLMRobertaSdpaSelfAttention.forward`.\n",
      "  return forward_call(*args, **kwargs)\n"
     ]
    },
    {
     "name": "stdout",
     "output_type": "stream",
     "text": [
      "   - ✅ 100개 번역 쌍 생성\n",
      "\n",
      "[57/100] 처리 중: tso500-ctdna-v2-data-sheet-m-gl-02196-jpn.pdf\n",
      "   - EN: 721개, JA: 426개 세그먼트\n"
     ]
    },
    {
     "name": "stderr",
     "output_type": "stream",
     "text": [
      "/home/cjkim/anaconda3/envs/mywork/lib/python3.12/site-packages/torch/nn/modules/module.py:1762: FutureWarning: `encoder_attention_mask` is deprecated and will be removed in version 4.55.0 for `XLMRobertaSdpaSelfAttention.forward`.\n",
      "  return forward_call(*args, **kwargs)\n"
     ]
    },
    {
     "name": "stdout",
     "output_type": "stream",
     "text": [
      "   - ✅ 189개 번역 쌍 생성\n",
      "\n",
      "[58/100] 처리 중: tso-500-ctdna-v2-input-titration-tech-note-m-gl-02229-jpn.pdf\n",
      "   - EN: 207개, JA: 110개 세그먼트\n"
     ]
    },
    {
     "name": "stderr",
     "output_type": "stream",
     "text": [
      "/home/cjkim/anaconda3/envs/mywork/lib/python3.12/site-packages/torch/nn/modules/module.py:1762: FutureWarning: `encoder_attention_mask` is deprecated and will be removed in version 4.55.0 for `XLMRobertaSdpaSelfAttention.forward`.\n",
      "  return forward_call(*args, **kwargs)\n"
     ]
    },
    {
     "name": "stdout",
     "output_type": "stream",
     "text": [
      "   - ✅ 47개 번역 쌍 생성\n",
      "\n",
      "[59/100] 처리 중: viral-surveillance-panel-v2-data-sheet-m-gl-02882-jpn.pdf\n",
      "   - EN: 342개, JA: 143개 세그먼트\n"
     ]
    },
    {
     "name": "stderr",
     "output_type": "stream",
     "text": [
      "/home/cjkim/anaconda3/envs/mywork/lib/python3.12/site-packages/torch/nn/modules/module.py:1762: FutureWarning: `encoder_attention_mask` is deprecated and will be removed in version 4.55.0 for `XLMRobertaSdpaSelfAttention.forward`.\n",
      "  return forward_call(*args, **kwargs)\n"
     ]
    },
    {
     "name": "stdout",
     "output_type": "stream",
     "text": [
      "   - ✅ 56개 번역 쌍 생성\n",
      "\n",
      "[60/100] 처리 중: tso500-ctdna-v1-v2-concordance-m-gl-02230-jpn.pdf\n",
      "   - EN: 326개, JA: 205개 세그먼트\n"
     ]
    },
    {
     "name": "stderr",
     "output_type": "stream",
     "text": [
      "/home/cjkim/anaconda3/envs/mywork/lib/python3.12/site-packages/torch/nn/modules/module.py:1762: FutureWarning: `encoder_attention_mask` is deprecated and will be removed in version 4.55.0 for `XLMRobertaSdpaSelfAttention.forward`.\n",
      "  return forward_call(*args, **kwargs)\n"
     ]
    },
    {
     "name": "stdout",
     "output_type": "stream",
     "text": [
      "   - ✅ 87개 번역 쌍 생성\n",
      "\n",
      "[61/100] 처리 중: trusight-oncology-500-and-ht-data-sheet-m-gl-00173-jpn.pdf\n",
      "   - EN: 688개, JA: 399개 세그먼트\n"
     ]
    },
    {
     "name": "stderr",
     "output_type": "stream",
     "text": [
      "/home/cjkim/anaconda3/envs/mywork/lib/python3.12/site-packages/torch/nn/modules/module.py:1762: FutureWarning: `encoder_attention_mask` is deprecated and will be removed in version 4.55.0 for `XLMRobertaSdpaSelfAttention.forward`.\n",
      "  return forward_call(*args, **kwargs)\n"
     ]
    },
    {
     "name": "stdout",
     "output_type": "stream",
     "text": [
      "   - ✅ 167개 번역 쌍 생성\n",
      "\n",
      "[62/100] 처리 중: illumina-connected-analytics-flyer-m-gl-00682-jpn.pdf\n",
      "   - EN: 73개, JA: 24개 세그먼트\n"
     ]
    },
    {
     "name": "stderr",
     "output_type": "stream",
     "text": [
      "/home/cjkim/anaconda3/envs/mywork/lib/python3.12/site-packages/torch/nn/modules/module.py:1762: FutureWarning: `encoder_attention_mask` is deprecated and will be removed in version 4.55.0 for `XLMRobertaSdpaSelfAttention.forward`.\n",
      "  return forward_call(*args, **kwargs)\n"
     ]
    },
    {
     "name": "stdout",
     "output_type": "stream",
     "text": [
      "   - ✅ 13개 번역 쌍 생성\n",
      "\n",
      "[63/100] 처리 중: illumina-connected-analytics-flyer-m-gl-00682-jpn.pdf\n",
      "   - EN: 73개, JA: 24개 세그먼트\n"
     ]
    },
    {
     "name": "stderr",
     "output_type": "stream",
     "text": [
      "/home/cjkim/anaconda3/envs/mywork/lib/python3.12/site-packages/torch/nn/modules/module.py:1762: FutureWarning: `encoder_attention_mask` is deprecated and will be removed in version 4.55.0 for `XLMRobertaSdpaSelfAttention.forward`.\n",
      "  return forward_call(*args, **kwargs)\n"
     ]
    },
    {
     "name": "stdout",
     "output_type": "stream",
     "text": [
      "   - ✅ 13개 번역 쌍 생성\n",
      "\n",
      "[64/100] 처리 중: dragen-on-basespace-970-2019-015-jpn.pdf\n",
      "   - EN: 166개, JA: 93개 세그먼트\n"
     ]
    },
    {
     "name": "stderr",
     "output_type": "stream",
     "text": [
      "/home/cjkim/anaconda3/envs/mywork/lib/python3.12/site-packages/torch/nn/modules/module.py:1762: FutureWarning: `encoder_attention_mask` is deprecated and will be removed in version 4.55.0 for `XLMRobertaSdpaSelfAttention.forward`.\n",
      "  return forward_call(*args, **kwargs)\n"
     ]
    },
    {
     "name": "stdout",
     "output_type": "stream",
     "text": [
      "   - ✅ 41개 번역 쌍 생성\n",
      "\n",
      "[65/100] 처리 중: illumina-protein-prep-data-sheet-m-gl-02533-jpn.pdf\n",
      "   - EN: 252개, JA: 105개 세그먼트\n"
     ]
    },
    {
     "name": "stderr",
     "output_type": "stream",
     "text": [
      "/home/cjkim/anaconda3/envs/mywork/lib/python3.12/site-packages/torch/nn/modules/module.py:1762: FutureWarning: `encoder_attention_mask` is deprecated and will be removed in version 4.55.0 for `XLMRobertaSdpaSelfAttention.forward`.\n",
      "  return forward_call(*args, **kwargs)\n"
     ]
    },
    {
     "name": "stdout",
     "output_type": "stream",
     "text": [
      "   - ✅ 39개 번역 쌍 생성\n",
      "\n",
      "[66/100] 처리 중: infinium-global-screening-array-data-sheet-m-gl-00712-jpn.pdf\n",
      "   - EN: 399개, JA: 188개 세그먼트\n"
     ]
    },
    {
     "name": "stderr",
     "output_type": "stream",
     "text": [
      "/home/cjkim/anaconda3/envs/mywork/lib/python3.12/site-packages/torch/nn/modules/module.py:1762: FutureWarning: `encoder_attention_mask` is deprecated and will be removed in version 4.55.0 for `XLMRobertaSdpaSelfAttention.forward`.\n",
      "  return forward_call(*args, **kwargs)\n"
     ]
    },
    {
     "name": "stdout",
     "output_type": "stream",
     "text": [
      "   - ✅ 101개 번역 쌍 생성\n",
      "\n",
      "[67/100] 처리 중: illumina-stranded-total-rna-prep-data-sheet-m-gl-02148-jpn.pdf\n",
      "   - EN: 269개, JA: 169개 세그먼트\n"
     ]
    },
    {
     "name": "stderr",
     "output_type": "stream",
     "text": [
      "/home/cjkim/anaconda3/envs/mywork/lib/python3.12/site-packages/torch/nn/modules/module.py:1762: FutureWarning: `encoder_attention_mask` is deprecated and will be removed in version 4.55.0 for `XLMRobertaSdpaSelfAttention.forward`.\n",
      "  return forward_call(*args, **kwargs)\n"
     ]
    },
    {
     "name": "stdout",
     "output_type": "stream",
     "text": [
      "   - ✅ 63개 번역 쌍 생성\n",
      "\n",
      "[68/100] 처리 중: miseq-i100-specification-sheet-m-gl-02244-jpn.pdf\n",
      "   - EN: 384개, JA: 146개 세그먼트\n"
     ]
    },
    {
     "name": "stderr",
     "output_type": "stream",
     "text": [
      "/home/cjkim/anaconda3/envs/mywork/lib/python3.12/site-packages/torch/nn/modules/module.py:1762: FutureWarning: `encoder_attention_mask` is deprecated and will be removed in version 4.55.0 for `XLMRobertaSdpaSelfAttention.forward`.\n",
      "  return forward_call(*args, **kwargs)\n"
     ]
    },
    {
     "name": "stdout",
     "output_type": "stream",
     "text": [
      "   - ✅ 64개 번역 쌍 생성\n",
      "\n",
      "[69/100] 처리 중: iseq100-system-spec-sheet-m-gl-00456-jpn.pdf\n",
      "   - EN: 255개, JA: 115개 세그먼트\n"
     ]
    },
    {
     "name": "stderr",
     "output_type": "stream",
     "text": [
      "/home/cjkim/anaconda3/envs/mywork/lib/python3.12/site-packages/torch/nn/modules/module.py:1762: FutureWarning: `encoder_attention_mask` is deprecated and will be removed in version 4.55.0 for `XLMRobertaSdpaSelfAttention.forward`.\n",
      "  return forward_call(*args, **kwargs)\n"
     ]
    },
    {
     "name": "stdout",
     "output_type": "stream",
     "text": [
      "   - ✅ 40개 번역 쌍 생성\n",
      "\n",
      "[70/100] 처리 중: iseq100-16s-app-note-770-2018-009-jpn.pdf\n",
      "   - EN: 253개, JA: 176개 세그먼트\n"
     ]
    },
    {
     "name": "stderr",
     "output_type": "stream",
     "text": [
      "/home/cjkim/anaconda3/envs/mywork/lib/python3.12/site-packages/torch/nn/modules/module.py:1762: FutureWarning: `encoder_attention_mask` is deprecated and will be removed in version 4.55.0 for `XLMRobertaSdpaSelfAttention.forward`.\n",
      "  return forward_call(*args, **kwargs)\n"
     ]
    },
    {
     "name": "stdout",
     "output_type": "stream",
     "text": [
      "   - ✅ 62개 번역 쌍 생성\n",
      "\n",
      "[71/100] 처리 중: 10x-visium-tech-note-m-gl-00177-jpn.pdf\n",
      "   - EN: 311개, JA: 162개 세그먼트\n"
     ]
    },
    {
     "name": "stderr",
     "output_type": "stream",
     "text": [
      "/home/cjkim/anaconda3/envs/mywork/lib/python3.12/site-packages/torch/nn/modules/module.py:1762: FutureWarning: `encoder_attention_mask` is deprecated and will be removed in version 4.55.0 for `XLMRobertaSdpaSelfAttention.forward`.\n",
      "  return forward_call(*args, **kwargs)\n"
     ]
    },
    {
     "name": "stdout",
     "output_type": "stream",
     "text": [
      "   - ✅ 78개 번역 쌍 생성\n",
      "\n",
      "[72/100] 처리 중: nextseq-1000-2000-metagenomics-app-note-m-gl-01147-jpn.pdf\n",
      "   - EN: 242개, JA: 176개 세그먼트\n"
     ]
    },
    {
     "name": "stderr",
     "output_type": "stream",
     "text": [
      "/home/cjkim/anaconda3/envs/mywork/lib/python3.12/site-packages/torch/nn/modules/module.py:1762: FutureWarning: `encoder_attention_mask` is deprecated and will be removed in version 4.55.0 for `XLMRobertaSdpaSelfAttention.forward`.\n",
      "  return forward_call(*args, **kwargs)\n"
     ]
    },
    {
     "name": "stdout",
     "output_type": "stream",
     "text": [
      "   - ✅ 55개 번역 쌍 생성\n",
      "\n",
      "[73/100] 처리 중: nextseq-1000-2000-rna-seq-app-note-m-gl-00480-jpn.pdf\n",
      "   - EN: 358개, JA: 203개 세그먼트\n"
     ]
    },
    {
     "name": "stderr",
     "output_type": "stream",
     "text": [
      "/home/cjkim/anaconda3/envs/mywork/lib/python3.12/site-packages/torch/nn/modules/module.py:1762: FutureWarning: `encoder_attention_mask` is deprecated and will be removed in version 4.55.0 for `XLMRobertaSdpaSelfAttention.forward`.\n",
      "  return forward_call(*args, **kwargs)\n"
     ]
    },
    {
     "name": "stdout",
     "output_type": "stream",
     "text": [
      "   - ✅ 86개 번역 쌍 생성\n",
      "\n",
      "[74/100] 처리 중: nextseq-1000-2000-single-cell-app-note-m-gl-00478-jpn.pdf\n",
      "   - EN: 267개, JA: 123개 세그먼트\n"
     ]
    },
    {
     "name": "stderr",
     "output_type": "stream",
     "text": [
      "/home/cjkim/anaconda3/envs/mywork/lib/python3.12/site-packages/torch/nn/modules/module.py:1762: FutureWarning: `encoder_attention_mask` is deprecated and will be removed in version 4.55.0 for `XLMRobertaSdpaSelfAttention.forward`.\n",
      "  return forward_call(*args, **kwargs)\n"
     ]
    },
    {
     "name": "stdout",
     "output_type": "stream",
     "text": [
      "   - ✅ 54개 번역 쌍 생성\n",
      "\n",
      "[75/100] 처리 중: nextseq-1000-2000-spec-sheet-m-na-00008.pdf\n",
      "   - EN: 478개, JA: 478개 세그먼트\n"
     ]
    },
    {
     "name": "stderr",
     "output_type": "stream",
     "text": [
      "/home/cjkim/anaconda3/envs/mywork/lib/python3.12/site-packages/torch/nn/modules/module.py:1762: FutureWarning: `encoder_attention_mask` is deprecated and will be removed in version 4.55.0 for `XLMRobertaSdpaSelfAttention.forward`.\n",
      "  return forward_call(*args, **kwargs)\n"
     ]
    },
    {
     "name": "stdout",
     "output_type": "stream",
     "text": [
      "   - ✅ 436개 번역 쌍 생성\n",
      "\n",
      "[76/100] 처리 중: nextseq-600c-16s-rrna-application-note-m-gl-01146-jpn.pdf\n",
      "   - EN: 380개, JA: 175개 세그먼트\n"
     ]
    },
    {
     "name": "stderr",
     "output_type": "stream",
     "text": [
      "/home/cjkim/anaconda3/envs/mywork/lib/python3.12/site-packages/torch/nn/modules/module.py:1762: FutureWarning: `encoder_attention_mask` is deprecated and will be removed in version 4.55.0 for `XLMRobertaSdpaSelfAttention.forward`.\n",
      "  return forward_call(*args, **kwargs)\n"
     ]
    },
    {
     "name": "stdout",
     "output_type": "stream",
     "text": [
      "   - ✅ 47개 번역 쌍 생성\n",
      "\n",
      "[77/100] 처리 중: illumina-cfdna-prep-enrich-m-gl-02096-jpn.pdf\n",
      "   - EN: 436개, JA: 221개 세그먼트\n"
     ]
    },
    {
     "name": "stderr",
     "output_type": "stream",
     "text": [
      "/home/cjkim/anaconda3/envs/mywork/lib/python3.12/site-packages/torch/nn/modules/module.py:1762: FutureWarning: `encoder_attention_mask` is deprecated and will be removed in version 4.55.0 for `XLMRobertaSdpaSelfAttention.forward`.\n",
      "  return forward_call(*args, **kwargs)\n"
     ]
    },
    {
     "name": "stdout",
     "output_type": "stream",
     "text": [
      "   - ✅ 76개 번역 쌍 생성\n",
      "\n",
      "[78/100] 처리 중: library-preparation-solutions-m-gl-00033-jpn.pdf\n",
      "   - EN: 388개, JA: 153개 세그먼트\n"
     ]
    },
    {
     "name": "stderr",
     "output_type": "stream",
     "text": [
      "/home/cjkim/anaconda3/envs/mywork/lib/python3.12/site-packages/torch/nn/modules/module.py:1762: FutureWarning: `encoder_attention_mask` is deprecated and will be removed in version 4.55.0 for `XLMRobertaSdpaSelfAttention.forward`.\n",
      "  return forward_call(*args, **kwargs)\n"
     ]
    },
    {
     "name": "stdout",
     "output_type": "stream",
     "text": [
      "   - ✅ 84개 번역 쌍 생성\n",
      "\n",
      "[79/100] 처리 중: illumina-dna-pcr-free-data-sheet-m-gl-00679-jpn.pdf\n",
      "   - EN: 309개, JA: 160개 세그먼트\n"
     ]
    },
    {
     "name": "stderr",
     "output_type": "stream",
     "text": [
      "/home/cjkim/anaconda3/envs/mywork/lib/python3.12/site-packages/torch/nn/modules/module.py:1762: FutureWarning: `encoder_attention_mask` is deprecated and will be removed in version 4.55.0 for `XLMRobertaSdpaSelfAttention.forward`.\n",
      "  return forward_call(*args, **kwargs)\n"
     ]
    },
    {
     "name": "stdout",
     "output_type": "stream",
     "text": [
      "   - ✅ 49개 번역 쌍 생성\n",
      "\n",
      "[80/100] 처리 중: illumina-dna-prep-data-sheet-m-gl-01373-jpn.pdf\n",
      "   - EN: 272개, JA: 110개 세그먼트\n"
     ]
    },
    {
     "name": "stderr",
     "output_type": "stream",
     "text": [
      "/home/cjkim/anaconda3/envs/mywork/lib/python3.12/site-packages/torch/nn/modules/module.py:1762: FutureWarning: `encoder_attention_mask` is deprecated and will be removed in version 4.55.0 for `XLMRobertaSdpaSelfAttention.forward`.\n",
      "  return forward_call(*args, **kwargs)\n"
     ]
    },
    {
     "name": "stdout",
     "output_type": "stream",
     "text": [
      "   - ✅ 40개 번역 쌍 생성\n",
      "\n",
      "[81/100] 처리 중: ilmn-microbial-amplicon-prep-data-sheet-m-gl-01788-jpn.pdf\n",
      "   - EN: 152개, JA: 76개 세그먼트\n"
     ]
    },
    {
     "name": "stderr",
     "output_type": "stream",
     "text": [
      "/home/cjkim/anaconda3/envs/mywork/lib/python3.12/site-packages/torch/nn/modules/module.py:1762: FutureWarning: `encoder_attention_mask` is deprecated and will be removed in version 4.55.0 for `XLMRobertaSdpaSelfAttention.forward`.\n",
      "  return forward_call(*args, **kwargs)\n"
     ]
    },
    {
     "name": "stdout",
     "output_type": "stream",
     "text": [
      "   - ✅ 34개 번역 쌍 생성\n",
      "\n",
      "[82/100] 처리 중: sequencing-platforms-brochure-m-gl-00451-jpn.pdf\n",
      "   - EN: 205개, JA: 20개 세그먼트\n"
     ]
    },
    {
     "name": "stderr",
     "output_type": "stream",
     "text": [
      "/home/cjkim/anaconda3/envs/mywork/lib/python3.12/site-packages/torch/nn/modules/module.py:1762: FutureWarning: `encoder_attention_mask` is deprecated and will be removed in version 4.55.0 for `XLMRobertaSdpaSelfAttention.forward`.\n",
      "  return forward_call(*args, **kwargs)\n"
     ]
    },
    {
     "name": "stdout",
     "output_type": "stream",
     "text": [
      "   - ✅ 10개 번역 쌍 생성\n",
      "\n",
      "[83/100] 처리 중: illumina-rna-prep-enrich-data-sheet-m-gl-02145-jpn.pdf\n",
      "   - EN: 283개, JA: 163개 세그먼트\n"
     ]
    },
    {
     "name": "stderr",
     "output_type": "stream",
     "text": [
      "/home/cjkim/anaconda3/envs/mywork/lib/python3.12/site-packages/torch/nn/modules/module.py:1762: FutureWarning: `encoder_attention_mask` is deprecated and will be removed in version 4.55.0 for `XLMRobertaSdpaSelfAttention.forward`.\n",
      "  return forward_call(*args, **kwargs)\n"
     ]
    },
    {
     "name": "stdout",
     "output_type": "stream",
     "text": [
      "   - ✅ 57개 번역 쌍 생성\n",
      "\n",
      "[84/100] 처리 중: rna-seq-workflows-guide-m-gl-00034-jpn.pdf\n",
      "   - EN: 648개, JA: 337개 세그먼트\n"
     ]
    },
    {
     "name": "stderr",
     "output_type": "stream",
     "text": [
      "/home/cjkim/anaconda3/envs/mywork/lib/python3.12/site-packages/torch/nn/modules/module.py:1762: FutureWarning: `encoder_attention_mask` is deprecated and will be removed in version 4.55.0 for `XLMRobertaSdpaSelfAttention.forward`.\n",
      "  return forward_call(*args, **kwargs)\n"
     ]
    },
    {
     "name": "stdout",
     "output_type": "stream",
     "text": [
      "   - ✅ 221개 번역 쌍 생성\n",
      "\n",
      "[85/100] 처리 중: 16s-rrna-seq-methods-guide-m-gl-02701-jpn.pdf\n",
      "   - EN: 208개, JA: 104개 세그먼트\n"
     ]
    },
    {
     "name": "stderr",
     "output_type": "stream",
     "text": [
      "/home/cjkim/anaconda3/envs/mywork/lib/python3.12/site-packages/torch/nn/modules/module.py:1762: FutureWarning: `encoder_attention_mask` is deprecated and will be removed in version 4.55.0 for `XLMRobertaSdpaSelfAttention.forward`.\n",
      "  return forward_call(*args, **kwargs)\n"
     ]
    },
    {
     "name": "stdout",
     "output_type": "stream",
     "text": [
      "   - ✅ 55개 번역 쌍 생성\n",
      "\n",
      "[86/100] 처리 중: shotgun-metagenomics-methods-guide-1270-2020-005-jpn.pdf\n",
      "   - EN: 396개, JA: 153개 세그먼트\n"
     ]
    },
    {
     "name": "stderr",
     "output_type": "stream",
     "text": [
      "/home/cjkim/anaconda3/envs/mywork/lib/python3.12/site-packages/torch/nn/modules/module.py:1762: FutureWarning: `encoder_attention_mask` is deprecated and will be removed in version 4.55.0 for `XLMRobertaSdpaSelfAttention.forward`.\n",
      "  return forward_call(*args, **kwargs)\n"
     ]
    },
    {
     "name": "stdout",
     "output_type": "stream",
     "text": [
      "   - ✅ 83개 번역 쌍 생성\n",
      "\n",
      "[87/100] 처리 중: infectious-disease-brochure-m-gl-02404.pdf\n",
      "   - EN: 324개, JA: 324개 세그먼트\n"
     ]
    },
    {
     "name": "stderr",
     "output_type": "stream",
     "text": [
      "/home/cjkim/anaconda3/envs/mywork/lib/python3.12/site-packages/torch/nn/modules/module.py:1762: FutureWarning: `encoder_attention_mask` is deprecated and will be removed in version 4.55.0 for `XLMRobertaSdpaSelfAttention.forward`.\n",
      "  return forward_call(*args, **kwargs)\n"
     ]
    },
    {
     "name": "stdout",
     "output_type": "stream",
     "text": [
      "   - ✅ 291개 번역 쌍 생성\n",
      "\n",
      "[88/100] 처리 중: miseq-i100-data-concordance-app-note-m-gl-02246-jpn.pdf\n",
      "   - EN: 387개, JA: 216개 세그먼트\n"
     ]
    },
    {
     "name": "stderr",
     "output_type": "stream",
     "text": [
      "/home/cjkim/anaconda3/envs/mywork/lib/python3.12/site-packages/torch/nn/modules/module.py:1762: FutureWarning: `encoder_attention_mask` is deprecated and will be removed in version 4.55.0 for `XLMRobertaSdpaSelfAttention.forward`.\n",
      "  return forward_call(*args, **kwargs)\n"
     ]
    },
    {
     "name": "stdout",
     "output_type": "stream",
     "text": [
      "   - ✅ 103개 번역 쌍 생성\n",
      "\n",
      "[89/100] 처리 중: covidseq-omicron-tech-note-m-gl-00691-jpn.pdf\n",
      "   - EN: 341개, JA: 224개 세그먼트\n"
     ]
    },
    {
     "name": "stderr",
     "output_type": "stream",
     "text": [
      "/home/cjkim/anaconda3/envs/mywork/lib/python3.12/site-packages/torch/nn/modules/module.py:1762: FutureWarning: `encoder_attention_mask` is deprecated and will be removed in version 4.55.0 for `XLMRobertaSdpaSelfAttention.forward`.\n",
      "  return forward_call(*args, **kwargs)\n"
     ]
    },
    {
     "name": "stdout",
     "output_type": "stream",
     "text": [
      "   - ✅ 91개 번역 쌍 생성\n",
      "\n",
      "[90/100] 처리 중: illumina-covidseq-tech-note-m-gl-00408-jpn.pdf\n",
      "   - EN: 188개, JA: 117개 세그먼트\n"
     ]
    },
    {
     "name": "stderr",
     "output_type": "stream",
     "text": [
      "/home/cjkim/anaconda3/envs/mywork/lib/python3.12/site-packages/torch/nn/modules/module.py:1762: FutureWarning: `encoder_attention_mask` is deprecated and will be removed in version 4.55.0 for `XLMRobertaSdpaSelfAttention.forward`.\n",
      "  return forward_call(*args, **kwargs)\n"
     ]
    },
    {
     "name": "stdout",
     "output_type": "stream",
     "text": [
      "   - ✅ 36개 번역 쌍 생성\n",
      "\n",
      "[91/100] 처리 중: miseq-i100-library-qc-app-note-m-gl-02871-jpn.pdf\n",
      "   - EN: 183개, JA: 94개 세그먼트\n"
     ]
    },
    {
     "name": "stderr",
     "output_type": "stream",
     "text": [
      "/home/cjkim/anaconda3/envs/mywork/lib/python3.12/site-packages/torch/nn/modules/module.py:1762: FutureWarning: `encoder_attention_mask` is deprecated and will be removed in version 4.55.0 for `XLMRobertaSdpaSelfAttention.forward`.\n",
      "  return forward_call(*args, **kwargs)\n"
     ]
    },
    {
     "name": "stdout",
     "output_type": "stream",
     "text": [
      "   - ✅ 42개 번역 쌍 생성\n",
      "\n",
      "[92/100] 처리 중: miseq-i100-wastewater-surveillance-app-note-m-gl-02915-jpn.pdf\n",
      "   - EN: 279개, JA: 121개 세그먼트\n"
     ]
    },
    {
     "name": "stderr",
     "output_type": "stream",
     "text": [
      "/home/cjkim/anaconda3/envs/mywork/lib/python3.12/site-packages/torch/nn/modules/module.py:1762: FutureWarning: `encoder_attention_mask` is deprecated and will be removed in version 4.55.0 for `XLMRobertaSdpaSelfAttention.forward`.\n",
      "  return forward_call(*args, **kwargs)\n"
     ]
    },
    {
     "name": "stdout",
     "output_type": "stream",
     "text": [
      "   - ✅ 63개 번역 쌍 생성\n",
      "\n",
      "[93/100] 처리 중: miseq-i100-library-optimization-tech-note-m-gl-03322-jpn.pdf\n",
      "   - EN: 230개, JA: 101개 세그먼트\n"
     ]
    },
    {
     "name": "stderr",
     "output_type": "stream",
     "text": [
      "/home/cjkim/anaconda3/envs/mywork/lib/python3.12/site-packages/torch/nn/modules/module.py:1762: FutureWarning: `encoder_attention_mask` is deprecated and will be removed in version 4.55.0 for `XLMRobertaSdpaSelfAttention.forward`.\n",
      "  return forward_call(*args, **kwargs)\n"
     ]
    },
    {
     "name": "stdout",
     "output_type": "stream",
     "text": [
      "   - ✅ 39개 번역 쌍 생성\n",
      "\n",
      "[94/100] 처리 중: service-plans-flyer-m-gl-03189-jpn.pdf\n",
      "   - EN: 58개, JA: 16개 세그먼트\n"
     ]
    },
    {
     "name": "stderr",
     "output_type": "stream",
     "text": [
      "/home/cjkim/anaconda3/envs/mywork/lib/python3.12/site-packages/torch/nn/modules/module.py:1762: FutureWarning: `encoder_attention_mask` is deprecated and will be removed in version 4.55.0 for `XLMRobertaSdpaSelfAttention.forward`.\n",
      "  return forward_call(*args, **kwargs)\n"
     ]
    },
    {
     "name": "stdout",
     "output_type": "stream",
     "text": [
      "   - ✅ 10개 번역 쌍 생성\n",
      "\n",
      "[95/100] 처리 중: miseq-i100-upip-ww-app-note-m-gl-03522-jpn.pdf\n",
      "   - EN: 298개, JA: 134개 세그먼트\n"
     ]
    },
    {
     "name": "stderr",
     "output_type": "stream",
     "text": [
      "/home/cjkim/anaconda3/envs/mywork/lib/python3.12/site-packages/torch/nn/modules/module.py:1762: FutureWarning: `encoder_attention_mask` is deprecated and will be removed in version 4.55.0 for `XLMRobertaSdpaSelfAttention.forward`.\n",
      "  return forward_call(*args, **kwargs)\n"
     ]
    },
    {
     "name": "stdout",
     "output_type": "stream",
     "text": [
      "   - ✅ 51개 번역 쌍 생성\n",
      "\n",
      "[96/100] 처리 중: infinium-methylation-screening-array-data-sheet-m-gl-01893-jpn.pdf\n",
      "   - EN: 373개, JA: 177개 세그먼트\n"
     ]
    },
    {
     "name": "stderr",
     "output_type": "stream",
     "text": [
      "/home/cjkim/anaconda3/envs/mywork/lib/python3.12/site-packages/torch/nn/modules/module.py:1762: FutureWarning: `encoder_attention_mask` is deprecated and will be removed in version 4.55.0 for `XLMRobertaSdpaSelfAttention.forward`.\n",
      "  return forward_call(*args, **kwargs)\n"
     ]
    },
    {
     "name": "stdout",
     "output_type": "stream",
     "text": [
      "   - ✅ 88개 번역 쌍 생성\n",
      "\n",
      "[97/100] 처리 중: illumina-stranded-mrna-prep-data-sheet-m-gl-02143-jpn.pdf\n",
      "   - EN: 197개, JA: 110개 세그먼트\n"
     ]
    },
    {
     "name": "stderr",
     "output_type": "stream",
     "text": [
      "/home/cjkim/anaconda3/envs/mywork/lib/python3.12/site-packages/torch/nn/modules/module.py:1762: FutureWarning: `encoder_attention_mask` is deprecated and will be removed in version 4.55.0 for `XLMRobertaSdpaSelfAttention.forward`.\n",
      "  return forward_call(*args, **kwargs)\n"
     ]
    },
    {
     "name": "stdout",
     "output_type": "stream",
     "text": [
      "   - ✅ 38개 번역 쌍 생성\n",
      "\n",
      "[98/100] 처리 중: workflow-design-eval-service-data-sheet-m-gl-01272-jpn.pdf\n",
      "   - EN: 113개, JA: 39개 세그먼트\n",
      "   - ✅ 14개 번역 쌍 생성\n",
      "\n",
      "[99/100] 처리 중: rna-seq-correlation-engine-tech-note-m-gl-02154-jpn.pdf\n"
     ]
    },
    {
     "name": "stderr",
     "output_type": "stream",
     "text": [
      "/home/cjkim/anaconda3/envs/mywork/lib/python3.12/site-packages/torch/nn/modules/module.py:1762: FutureWarning: `encoder_attention_mask` is deprecated and will be removed in version 4.55.0 for `XLMRobertaSdpaSelfAttention.forward`.\n",
      "  return forward_call(*args, **kwargs)\n"
     ]
    },
    {
     "name": "stdout",
     "output_type": "stream",
     "text": [
      "   - EN: 148개, JA: 68개 세그먼트\n"
     ]
    },
    {
     "name": "stderr",
     "output_type": "stream",
     "text": [
      "/home/cjkim/anaconda3/envs/mywork/lib/python3.12/site-packages/torch/nn/modules/module.py:1762: FutureWarning: `encoder_attention_mask` is deprecated and will be removed in version 4.55.0 for `XLMRobertaSdpaSelfAttention.forward`.\n",
      "  return forward_call(*args, **kwargs)\n"
     ]
    },
    {
     "name": "stdout",
     "output_type": "stream",
     "text": [
      "   - ✅ 30개 번역 쌍 생성\n",
      "\n",
      "[100/100] 처리 중: instrument-services-training-brochure-m-gl-02786-jpn.pdf\n",
      "   - EN: 250개, JA: 43개 세그먼트\n"
     ]
    },
    {
     "name": "stderr",
     "output_type": "stream",
     "text": [
      "/home/cjkim/anaconda3/envs/mywork/lib/python3.12/site-packages/torch/nn/modules/module.py:1762: FutureWarning: `encoder_attention_mask` is deprecated and will be removed in version 4.55.0 for `XLMRobertaSdpaSelfAttention.forward`.\n",
      "  return forward_call(*args, **kwargs)\n"
     ]
    },
    {
     "name": "stdout",
     "output_type": "stream",
     "text": [
      "   - ✅ 14개 번역 쌍 생성\n",
      "\n",
      "🎉 EN-JA: 총 9682개 번역 쌍 완료!\n"
     ]
    }
   ],
   "source": [
    "# ========================================\n",
    "# Cell 2: 모든 언어 쌍 처리\n",
    "# ========================================\n",
    "\n",
    "extractor = PDFTextExtractor()\n",
    "generator = TranslationPairGenerator(similarity_threshold=0.9)\n",
    "\n",
    "all_results = {}\n",
    "\n",
    "for source_lang, target_lang in LANGUAGE_PAIRS:\n",
    "    print(f\"\\n{'='*80}\")\n",
    "    print(f\"🔄 {source_lang.upper()}-{target_lang.upper()} 언어 쌍 처리 시작\")\n",
    "    print(f\"{'='*80}\")\n",
    "    \n",
    "    # 1. PDF 페어 찾기\n",
    "    matcher = PDFPairMatcher(source_lang, target_lang)\n",
    "    pdf_pairs = matcher.find_pdf_pairs()\n",
    "    \n",
    "    if not pdf_pairs:\n",
    "        print(f\"❌ {source_lang.upper()}-{target_lang.upper()} PDF 페어를 찾을 수 없습니다.\")\n",
    "        continue\n",
    "    \n",
    "    # 2. 번역 쌍 생성\n",
    "    pairs_for_this_language = []\n",
    "    \n",
    "    for i, (source_path, target_path) in enumerate(pdf_pairs):\n",
    "        print(f\"\\n[{i+1}/{len(pdf_pairs)}] 처리 중: {os.path.basename(target_path)}\")\n",
    "        \n",
    "        try:\n",
    "            # 텍스트 추출\n",
    "            source_segments = extractor.extract_segments_from_pdf(source_path)\n",
    "            target_segments = extractor.extract_segments_from_pdf(target_path)\n",
    "            \n",
    "            print(f\"   - {source_lang.upper()}: {len(source_segments)}개, {target_lang.upper()}: {len(target_segments)}개 세그먼트\")\n",
    "            \n",
    "            # 번역 쌍 생성\n",
    "            pairs = generator.generate_pairs(\n",
    "                source_segments, target_segments, target_path, \n",
    "                source_lang, target_lang\n",
    "            )\n",
    "            pairs_for_this_language.extend(pairs)\n",
    "            \n",
    "            print(f\"   - ✅ {len(pairs)}개 번역 쌍 생성\")\n",
    "            \n",
    "        except Exception as e:\n",
    "            print(f\"   - ❌ 오류: {e}\")\n",
    "    \n",
    "    all_results[f\"{source_lang}_{target_lang}\"] = pairs_for_this_language\n",
    "    print(f\"\\n🎉 {source_lang.upper()}-{target_lang.upper()}: 총 {len(pairs_for_this_language)}개 번역 쌍 완료!\")\n",
    "\n",
    "\n"
   ]
  },
  {
   "cell_type": "code",
   "execution_count": 9,
   "id": "806cb149",
   "metadata": {},
   "outputs": [
    {
     "name": "stdout",
     "output_type": "stream",
     "text": [
      "💾 EN_JA 저장: /mnt/d/Cloud-Synced/Illumina/OneDrive - Illumina, Inc/aem_qa_system/data/3_processed/pdf_translation_pairs_en_ja.csv (9682개)\n",
      "   📊 평균 유사도: 0.965\n",
      "\n",
      "📦 통합 파일 저장: /mnt/d/Cloud-Synced/Illumina/OneDrive - Illumina, Inc/aem_qa_system/data/3_processed/pdf_translation_pairs_all.csv\n",
      "   📊 전체 번역 쌍: 9682개\n",
      "   🌐 지원 언어: ['ja']\n"
     ]
    }
   ],
   "source": [
    "# ========================================\n",
    "# Cell 3: 결과 저장\n",
    "# ========================================\n",
    "\n",
    "total_pairs = 0\n",
    "\n",
    "for lang_pair, pairs in all_results.items():\n",
    "    if pairs:\n",
    "        # 언어별 개별 파일 저장\n",
    "        csv_path = os.path.join(PROCESSED_DIR, f\"pdf_translation_pairs_{lang_pair}.csv\")\n",
    "        df = pd.DataFrame(pairs)\n",
    "        df.to_csv(csv_path, index=False, encoding='utf-8-sig')\n",
    "        \n",
    "        total_pairs += len(pairs)\n",
    "        print(f\"💾 {lang_pair.upper()} 저장: {csv_path} ({len(pairs)}개)\")\n",
    "        print(f\"   📊 평균 유사도: {df['similarity_score'].mean():.3f}\")\n",
    "\n",
    "# 통합 파일 저장 (옵션)\n",
    "if total_pairs > 0:\n",
    "    all_pairs_combined = []\n",
    "    for pairs in all_results.values():\n",
    "        all_pairs_combined.extend(pairs)\n",
    "    \n",
    "    combined_csv_path = os.path.join(PROCESSED_DIR, \"pdf_translation_pairs_all.csv\")\n",
    "    combined_df = pd.DataFrame(all_pairs_combined)\n",
    "    combined_df.to_csv(combined_csv_path, index=False, encoding='utf-8-sig')\n",
    "    \n",
    "    print(f\"\\n📦 통합 파일 저장: {combined_csv_path}\")\n",
    "    print(f\"   📊 전체 번역 쌍: {len(all_pairs_combined)}개\")\n",
    "    print(f\"   🌐 지원 언어: {combined_df['target_lang'].unique().tolist()}\")\n",
    "\n",
    "\n"
   ]
  },
  {
   "cell_type": "code",
   "execution_count": null,
   "id": "26bc0e58",
   "metadata": {},
   "outputs": [],
   "source": [
    "# ========================================\n",
    "# Cell 4: 결과 요약\n",
    "# ========================================\n",
    "\n",
    "if total_pairs > 0:\n",
    "    print(f\"\\n{'='*80}\")\n",
    "    print(\"📈 다국어 PDF 번역 쌍 추출 완료!\")\n",
    "    print(f\"{'='*80}\")\n",
    "    \n",
    "    for lang_pair, pairs in all_results.items():\n",
    "        if pairs:\n",
    "            source_lang, target_lang = lang_pair.split('_')\n",
    "            df = pd.DataFrame(pairs)\n",
    "            print(f\"\\n🌐 {source_lang.upper()}-{target_lang.upper()}:\")\n",
    "            print(f\"   📄 번역 쌍: {len(pairs)}개\")\n",
    "            print(f\"   📊 평균 유사도: {df['similarity_score'].mean():.3f}\")\n",
    "            print(f\"   📁 소스 파일: {df['source_file'].nunique()}개\")\n",
    "            \n",
    "            # 상위 1개 샘플 보기\n",
    "            if len(pairs) > 0:\n",
    "                top_pair = df.nlargest(1, 'similarity_score').iloc[0]\n",
    "                print(f\"   🔍 최고 유사도 ({top_pair['similarity_score']:.3f}):\")\n",
    "                print(f\"     {source_lang.upper()}: {top_pair['source_text'][:50]}...\")\n",
    "                print(f\"     {target_lang.upper()}: {top_pair['target_text'][:50]}...\")\n",
    "else:\n",
    "    print(\"\\n⚠️ 생성된 번역 쌍이 없습니다.\")"
   ]
  }
 ],
 "metadata": {
  "kernelspec": {
   "display_name": "mywork",
   "language": "python",
   "name": "python3"
  },
  "language_info": {
   "codemirror_mode": {
    "name": "ipython",
    "version": 3
   },
   "file_extension": ".py",
   "mimetype": "text/x-python",
   "name": "python",
   "nbconvert_exporter": "python",
   "pygments_lexer": "ipython3",
   "version": "3.12.11"
  }
 },
 "nbformat": 4,
 "nbformat_minor": 5
}
