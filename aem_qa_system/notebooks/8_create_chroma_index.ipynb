{
 "cells": [
  {
   "cell_type": "code",
   "execution_count": null,
   "id": "3f9a7ba9",
   "metadata": {},
   "outputs": [],
   "source": [
    "# notebooks/8_create_chroma_index.ipynb\n",
    "\n",
    "# #################################################################\n",
    "# Cell 1: 설정\n",
    "# #################################################################\n",
    "import os\n",
    "import sys\n",
    "sys.path.append(os.path.abspath('../src'))\n",
    "\n",
    "# 폴더 경로를 찾지 못할 경우를 대비하여 indexing 경로도 추가\n",
    "sys.path.append(os.path.abspath('../src/indexing'))\n",
    "\n",
    "from chroma_indexer import ChromaIndexer\n",
    "\n",
    "# 처리할 언어 쌍 목록을 정의합니다.\n",
    "LANGUAGE_PAIRS = {\n",
    "    \"1\": (\"en_ko\"),\n",
    "    \"2\": (\"en_ja\"),\n",
    "}\n",
    "\n"
   ]
  },
  {
   "cell_type": "code",
   "execution_count": null,
   "id": "86034676",
   "metadata": {},
   "outputs": [],
   "source": [
    "# #################################################################\n",
    "# Cell 2: 사용자 선택\n",
    "# #################################################################\n",
    "print(\"벡터 인덱스를 생성할 언어 쌍을 선택하세요:\\n\")\n",
    "\n",
    "for key, suffix in LANGUAGE_PAIRS.items():\n",
    "    print(f\"  [{key}] {suffix}\")\n",
    "\n",
    "choice = input(\"\\n번호를 입력하세요: \")\n",
    "\n",
    "if choice in LANGUAGE_PAIRS:\n",
    "    selected_suffix = LANGUAGE_PAIRS[choice]\n",
    "    print(f\"\\n✅ '{selected_suffix}' 쌍에 대한 인덱스 생성을 시작합니다.\")\n",
    "else:\n",
    "    selected_suffix = None\n",
    "    print(\"\\n❌ 잘못된 번호를 선택했습니다. 스크립트를 중지합니다.\")\n",
    "\n"
   ]
  },
  {
   "cell_type": "code",
   "execution_count": null,
   "id": "349e29bd",
   "metadata": {},
   "outputs": [],
   "source": [
    "# #################################################################\n",
    "# Cell 3: 실행\n",
    "# #################################################################\n",
    "if selected_suffix:\n",
    "    # 1. ChromaDB 인덱서 객체를 생성합니다.\n",
    "    indexer = ChromaIndexer()\n",
    "\n",
    "    # 2. 선택된 언어 쌍으로 인덱스 생성을 실행합니다.\n",
    "    indexer.create_index(lang_suffix=selected_suffix)\n",
    "    \n",
    "    print(\"\\n🎉 모든 작업이 완료되었습니다!\")"
   ]
  },
  {
   "cell_type": "code",
   "execution_count": null,
   "id": "c46789af",
   "metadata": {},
   "outputs": [],
   "source": []
  }
 ],
 "metadata": {
  "kernelspec": {
   "display_name": "mywork",
   "language": "python",
   "name": "python3"
  },
  "language_info": {
   "codemirror_mode": {
    "name": "ipython",
    "version": 3
   },
   "file_extension": ".py",
   "mimetype": "text/x-python",
   "name": "python",
   "nbconvert_exporter": "python",
   "pygments_lexer": "ipython3",
   "version": "3.12.11"
  }
 },
 "nbformat": 4,
 "nbformat_minor": 5
}
