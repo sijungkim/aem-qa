{
 "cells": [
  {
   "cell_type": "code",
   "execution_count": 2,
   "id": "abb0d3e1",
   "metadata": {},
   "outputs": [],
   "source": [
    "# notebooks/4_run_processing.ipynb\n",
    "\n",
    "import os\n",
    "import sys\n",
    "sys.path.append(os.path.abspath('../src'))\n",
    "\n",
    "from config import PACKAGES_DIR\n",
    "from processors.data_ingestor import DataIngestor\n"
   ]
  },
  {
   "cell_type": "code",
   "execution_count": 5,
   "id": "7e9c9a3a",
   "metadata": {},
   "outputs": [
    {
     "name": "stdout",
     "output_type": "stream",
     "text": [
      "📦 처리할 데이터 패키지를 선택하세요:\n",
      "  [1] aem_repackaged.zip\n",
      "  [2] data_package_20250810_135745.zip\n",
      "  [3] sample_data_package_20250810_171536.zip\n",
      "  [4] sample_data_package_20250810_175858.zip\n",
      "\n",
      "✅ 'aem_repackaged.zip' 파일 처리를 시작합니다.\n",
      "✅ MongoDB에 연결되었습니다.\n",
      "   - Manifest 로드 완료: 39827개의 AEM 스냅샷 처리 대상 확인.\n",
      "   - 파일 처리 중: 39827/39827 (신규 버전: v1) 스킵)\n",
      "   - ✅ 총 39262개의 새로운 스냅샷 버전을 DB에 저장했습니다.\n",
      "\n",
      "🎉 모든 데이터가 MongoDB에 성공적으로 저장되었습니다!\n"
     ]
    }
   ],
   "source": [
    "# --- 1. 처리할 패키지 파일 선택 ---\n",
    "# packages 폴더에 있는 ZIP 파일 목록을 보여줍니다.\n",
    "package_files = [f for f in os.listdir(PACKAGES_DIR) if f.endswith('.zip')]\n",
    "if not package_files:\n",
    "    print(f\"❌ 처리할 패키지 파일이 '{PACKAGES_DIR}' 폴더에 없습니다.\")\n",
    "else:\n",
    "    print(\"📦 처리할 데이터 패키지를 선택하세요:\")\n",
    "    for i, filename in enumerate(package_files):\n",
    "        print(f\"  [{i+1}] {filename}\")\n",
    "    \n",
    "    try:\n",
    "        choice = int(input(\"\\n선택 (번호 입력): \")) - 1\n",
    "        selected_package = package_files[choice]\n",
    "        package_path = os.path.join(PACKAGES_DIR, selected_package)\n",
    "        \n",
    "        print(f\"\\n✅ '{selected_package}' 파일 처리를 시작합니다.\")\n",
    "        \n",
    "        # --- 2. 데이터 저장(Ingestion) 실행 ---\n",
    "        ingestor = DataIngestor()\n",
    "        ingestor.ingest_package(package_path)\n",
    "        \n",
    "        print(\"\\n🎉 모든 데이터가 MongoDB에 성공적으로 저장되었습니다!\")\n",
    "\n",
    "    except (ValueError, IndexError):\n",
    "        print(\"❌ 잘못된 번호를 입력했습니다.\")\n",
    "    except Exception as e:\n",
    "        print(f\"❌ 처리 중 오류가 발생했습니다: {e}\")"
   ]
  }
 ],
 "metadata": {
  "kernelspec": {
   "display_name": "mywork",
   "language": "python",
   "name": "python3"
  },
  "language_info": {
   "codemirror_mode": {
    "name": "ipython",
    "version": 3
   },
   "file_extension": ".py",
   "mimetype": "text/x-python",
   "name": "python",
   "nbconvert_exporter": "python",
   "pygments_lexer": "ipython3",
   "version": "3.12.11"
  }
 },
 "nbformat": 4,
 "nbformat_minor": 5
}
