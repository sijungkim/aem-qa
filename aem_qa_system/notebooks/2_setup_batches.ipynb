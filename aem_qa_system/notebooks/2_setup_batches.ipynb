{
 "cells": [
  {
   "cell_type": "code",
   "execution_count": 1,
   "id": "de4b47ac",
   "metadata": {},
   "outputs": [
    {
     "name": "stdout",
     "output_type": "stream",
     "text": [
      "📁 배치 출력 디렉토리:\n",
      "   - AEM: /mnt/d/Cloud-Synced/Illumina/OneDrive - Illumina, Inc/aem_qa_system/data/1_input/aem_batches_todo\n",
      "   - PDF: /mnt/d/Cloud-Synced/Illumina/OneDrive - Illumina, Inc/aem_qa_system/data/1_input/pdf_batches_todo\n"
     ]
    }
   ],
   "source": [
    "# ========================================\n",
    "# Cell 1: 라이브러리 import 및 설정\n",
    "# ========================================\n",
    "\n",
    "import os\n",
    "import sys\n",
    "import glob\n",
    "sys.path.append(os.path.abspath('../src'))\n",
    "\n",
    "from config import (\n",
    "    AEM_PAGES_MASTER_TXT, INPUT_DIR,\n",
    "    AEM_BATCHES_TODO_DIR, PDF_BATCHES_TODO_DIR\n",
    ")\n",
    "from utils.batch_utils import create_text_file_batches, create_csv_file_batches\n",
    "\n",
    "# 필요한 디렉토리 생성\n",
    "os.makedirs(AEM_BATCHES_TODO_DIR, exist_ok=True)\n",
    "os.makedirs(PDF_BATCHES_TODO_DIR, exist_ok=True)\n",
    "\n",
    "print(f\"📁 배치 출력 디렉토리:\")\n",
    "print(f\"   - AEM: {AEM_BATCHES_TODO_DIR}\")\n",
    "print(f\"   - PDF: {PDF_BATCHES_TODO_DIR}\")"
   ]
  },
  {
   "cell_type": "code",
   "execution_count": null,
   "id": "b9458286",
   "metadata": {},
   "outputs": [],
   "source": [
    "# ========================================\n",
    "# Cell 2: AEM 페이지 목록 배치 생성\n",
    "# ========================================\n",
    "\n",
    "print(\"--- 1. AEM 페이지 목록 배치 생성 시작 ---\")\n",
    "\n",
    "# AEM 마스터 파일 존재 확인\n",
    "if not os.path.exists(AEM_PAGES_MASTER_TXT):\n",
    "    print(f\"❌ AEM 페이지 마스터 파일을 찾을 수 없습니다: {AEM_PAGES_MASTER_TXT}\")\n",
    "else:\n",
    "    create_text_file_batches(\n",
    "        input_file=AEM_PAGES_MASTER_TXT,\n",
    "        output_dir=AEM_BATCHES_TODO_DIR,\n",
    "        batch_size=500\n",
    "    )\n",
    "\n",
    "print(\"-\" * 50)"
   ]
  },
  {
   "cell_type": "code",
   "execution_count": null,
   "id": "1c074a4a",
   "metadata": {},
   "outputs": [],
   "source": [
    "# ========================================\n",
    "# Cell 3: 다국어 PDF 목록 배치 생성\n",
    "# ========================================\n",
    "\n",
    "print(\"\\n--- 2. 다국어 PDF 목록 배치 생성 시작 ---\")\n",
    "\n",
    "# pdf_list_master_*.csv 패턴의 모든 파일 찾기\n",
    "pdf_master_files = glob.glob(os.path.join(INPUT_DIR, \"pdf_list_master_*.csv\"))\n",
    "\n",
    "if not pdf_master_files:\n",
    "    print(\"❌ pdf_list_master_*.csv 파일을 찾을 수 없습니다.\")\n",
    "    print(f\"   확인 경로: {INPUT_DIR}\")\n",
    "else:\n",
    "    print(f\"🔍 발견된 PDF 매스터 파일들:\")\n",
    "    for file_path in pdf_master_files:\n",
    "        print(f\"   - {os.path.basename(file_path)}\")\n",
    "    \n",
    "    print(f\"\\n📋 총 {len(pdf_master_files)}개 파일을 배치로 분할합니다...\")\n",
    "    \n",
    "    for file_path in pdf_master_files:\n",
    "        print(f\"\\n처리 중: {os.path.basename(file_path)}\")\n",
    "        create_csv_file_batches(\n",
    "            input_file=file_path,\n",
    "            output_dir=PDF_BATCHES_TODO_DIR,\n",
    "            batch_size=500\n",
    "        )\n",
    "\n",
    "print(\"-\" * 50)\n"
   ]
  },
  {
   "cell_type": "code",
   "execution_count": null,
   "id": "e7b02979",
   "metadata": {},
   "outputs": [],
   "source": [
    "# ========================================\n",
    "# Cell 4: 생성된 배치 파일 확인\n",
    "# ========================================\n",
    "\n",
    "print(\"\\n--- 3. 생성된 배치 파일 확인 ---\")\n",
    "\n",
    "# AEM 배치 파일 확인\n",
    "aem_batches = glob.glob(os.path.join(AEM_BATCHES_TODO_DIR, \"aem_batch_*.list\"))\n",
    "print(f\"📄 AEM 배치 파일: {len(aem_batches)}개\")\n",
    "\n",
    "# PDF 배치 파일 확인 (언어별)\n",
    "pdf_batches = glob.glob(os.path.join(PDF_BATCHES_TODO_DIR, \"pdf_batch_*.csv\"))\n",
    "print(f\"📄 PDF 배치 파일: {len(pdf_batches)}개\")\n",
    "\n",
    "if pdf_batches:\n",
    "    print(\"\\n🌐 언어별 PDF 배치 파일:\")\n",
    "    language_counts = {}\n",
    "    \n",
    "    for batch_file in pdf_batches:\n",
    "        filename = os.path.basename(batch_file)\n",
    "        # pdf_batch_en_ko_001.csv에서 en_ko 추출\n",
    "        parts = filename.split('_')\n",
    "        if len(parts) >= 4:\n",
    "            lang_pair = f\"{parts[2]}_{parts[3]}\"\n",
    "            if lang_pair not in language_counts:\n",
    "                language_counts[lang_pair] = 0\n",
    "            language_counts[lang_pair] += 1\n",
    "    \n",
    "    for lang_pair, count in language_counts.items():\n",
    "        source_lang, target_lang = lang_pair.split('_')\n",
    "        print(f\"   - {source_lang.upper()}-{target_lang.upper()}: {count}개 배치\")\n",
    "\n",
    "print(f\"\\n✅ 배치 생성 완료! 이제 데이터 수집을 시작할 수 있습니다.\")"
   ]
  }
 ],
 "metadata": {
  "kernelspec": {
   "display_name": "mywork",
   "language": "python",
   "name": "python3"
  },
  "language_info": {
   "codemirror_mode": {
    "name": "ipython",
    "version": 3
   },
   "file_extension": ".py",
   "mimetype": "text/x-python",
   "name": "python",
   "nbconvert_exporter": "python",
   "pygments_lexer": "ipython3",
   "version": "3.12.11"
  }
 },
 "nbformat": 4,
 "nbformat_minor": 5
}
