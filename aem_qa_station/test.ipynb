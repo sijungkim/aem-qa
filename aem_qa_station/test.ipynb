{
 "cells": [
  {
   "cell_type": "code",
   "execution_count": 1,
   "id": "2ed2ff1c",
   "metadata": {},
   "outputs": [
    {
     "name": "stdout",
     "output_type": "stream",
     "text": [
      "PyTorch 버전: 2.8.0+cu128\n",
      "CUDA 버전: 12.8\n",
      "CUDA 사용 가능: True\n",
      "GPU 이름: NVIDIA GeForce RTX 4070 SUPER\n"
     ]
    }
   ],
   "source": [
    "import torch\n",
    "print(f\"PyTorch 버전: {torch.__version__}\")\n",
    "print(f\"CUDA 버전: {torch.version.cuda}\")\n",
    "print(f\"CUDA 사용 가능: {torch.cuda.is_available()}\")\n",
    "if torch.cuda.is_available():\n",
    "    print(f\"GPU 이름: {torch.cuda.get_device_name(0)}\")"
   ]
  },
  {
   "cell_type": "code",
   "execution_count": 2,
   "id": "afd36af9",
   "metadata": {},
   "outputs": [
    {
     "name": "stderr",
     "output_type": "stream",
     "text": [
      "/home/cjkim/anaconda3/envs/station/lib/python3.12/site-packages/tqdm/auto.py:21: TqdmWarning: IProgress not found. Please update jupyter and ipywidgets. See https://ipywidgets.readthedocs.io/en/stable/user_install.html\n",
      "  from .autonotebook import tqdm as notebook_tqdm\n"
     ]
    },
    {
     "name": "stdout",
     "output_type": "stream",
     "text": [
      "🎮 사용할 디바이스: cuda\n",
      "🤖 모델 디바이스: cuda:0\n",
      "⚡ 100개 문장 임베딩 시간: 0.29초\n",
      "✅ 임베딩 shape: (100, 1024)\n"
     ]
    }
   ],
   "source": [
    "from sentence_transformers import SentenceTransformer\n",
    "import torch\n",
    "\n",
    "# GPU 사용 모델 로드\n",
    "device = 'cuda' if torch.cuda.is_available() else 'cpu'\n",
    "print(f\"🎮 사용할 디바이스: {device}\")\n",
    "\n",
    "model = SentenceTransformer('intfloat/multilingual-e5-large', device=device)\n",
    "print(f\"🤖 모델 디바이스: {model.device}\")\n",
    "\n",
    "# 간단한 성능 테스트\n",
    "import time\n",
    "test_sentences = [\"This is a test sentence for GPU performance\"] * 100\n",
    "\n",
    "start_time = time.time()\n",
    "embeddings = model.encode(test_sentences, batch_size=32)\n",
    "end_time = time.time()\n",
    "\n",
    "print(f\"⚡ 100개 문장 임베딩 시간: {end_time - start_time:.2f}초\")\n",
    "print(f\"✅ 임베딩 shape: {embeddings.shape}\")"
   ]
  },
  {
   "cell_type": "code",
   "execution_count": null,
   "id": "4cc8ac74",
   "metadata": {},
   "outputs": [],
   "source": [
    "# 모든 핵심 패키지 import 테스트\n",
    "python -c \"\n",
    "import streamlit\n",
    "import tornado\n",
    "import pymongo\n",
    "import chromadb\n",
    "import sentence_transformers\n",
    "import torch\n",
    "print('✅ 모든 패키지 설치 완료!')\n",
    "print(f'Streamlit: {streamlit.__version__}')\n",
    "print(f'Tornado: {tornado.version}')\n",
    "\""
   ]
  }
 ],
 "metadata": {
  "kernelspec": {
   "display_name": "station",
   "language": "python",
   "name": "python3"
  },
  "language_info": {
   "codemirror_mode": {
    "name": "ipython",
    "version": 3
   },
   "file_extension": ".py",
   "mimetype": "text/x-python",
   "name": "python",
   "nbconvert_exporter": "python",
   "pygments_lexer": "ipython3",
   "version": "3.12.11"
  }
 },
 "nbformat": 4,
 "nbformat_minor": 5
}
